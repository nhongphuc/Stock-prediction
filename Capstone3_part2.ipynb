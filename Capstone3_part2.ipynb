{
 "cells": [
  {
   "cell_type": "code",
   "execution_count": 1,
   "id": "0a491e15",
   "metadata": {},
   "outputs": [],
   "source": [
    "#importing necessary packages \n",
    "\n",
    "from datetime import datetime\n",
    "import pandas as pd\n",
    "import numpy as np\n",
    "import matplotlib.pyplot as plt\n",
    "import seaborn as sns\n",
    "from statsmodels.tsa.arima.model import ARIMA\n",
    "from statsmodels.graphics.tsaplots import plot_predict\n",
    "from sklearn.model_selection import TimeSeriesSplit\n",
    "from sklearn.metrics import mean_absolute_percentage_error as MAPE\n",
    "\n",
    "import warnings\n",
    "warnings.filterwarnings('ignore')"
   ]
  },
  {
   "cell_type": "code",
   "execution_count": 2,
   "id": "f6b9f3a3",
   "metadata": {},
   "outputs": [],
   "source": [
    "#Loading the csv file into dataframes\n",
    "\n",
    "prices = pd.read_csv('opening_prices.csv', index_col='date')\n",
    "\n",
    "prices.index = pd.DatetimeIndex(prices.index)\n",
    "\n",
    "prices = prices.to_period('B').sort_index()"
   ]
  },
  {
   "cell_type": "code",
   "execution_count": 3,
   "id": "8deb0e91",
   "metadata": {},
   "outputs": [
    {
     "data": {
      "text/html": [
       "<div>\n",
       "<style scoped>\n",
       "    .dataframe tbody tr th:only-of-type {\n",
       "        vertical-align: middle;\n",
       "    }\n",
       "\n",
       "    .dataframe tbody tr th {\n",
       "        vertical-align: top;\n",
       "    }\n",
       "\n",
       "    .dataframe thead th {\n",
       "        text-align: right;\n",
       "    }\n",
       "</style>\n",
       "<table border=\"1\" class=\"dataframe\">\n",
       "  <thead>\n",
       "    <tr style=\"text-align: right;\">\n",
       "      <th></th>\n",
       "      <th>open</th>\n",
       "    </tr>\n",
       "    <tr>\n",
       "      <th>date</th>\n",
       "      <th></th>\n",
       "    </tr>\n",
       "  </thead>\n",
       "  <tbody>\n",
       "    <tr>\n",
       "      <th>2010-01-01</th>\n",
       "      <td>12.36</td>\n",
       "    </tr>\n",
       "    <tr>\n",
       "      <th>2010-01-04</th>\n",
       "      <td>12.36</td>\n",
       "    </tr>\n",
       "    <tr>\n",
       "      <th>2010-01-05</th>\n",
       "      <td>12.47</td>\n",
       "    </tr>\n",
       "    <tr>\n",
       "      <th>2010-01-06</th>\n",
       "      <td>12.75</td>\n",
       "    </tr>\n",
       "    <tr>\n",
       "      <th>2010-01-07</th>\n",
       "      <td>12.83</td>\n",
       "    </tr>\n",
       "  </tbody>\n",
       "</table>\n",
       "</div>"
      ],
      "text/plain": [
       "             open\n",
       "date             \n",
       "2010-01-01  12.36\n",
       "2010-01-04  12.36\n",
       "2010-01-05  12.47\n",
       "2010-01-06  12.75\n",
       "2010-01-07  12.83"
      ]
     },
     "execution_count": 3,
     "metadata": {},
     "output_type": "execute_result"
    }
   ],
   "source": [
    "prices.head()"
   ]
  },
  {
   "cell_type": "code",
   "execution_count": 4,
   "id": "b698143b",
   "metadata": {},
   "outputs": [
    {
     "data": {
      "text/plain": [
       "date\n",
       "2010-01-01    12.36\n",
       "2010-01-04    12.36\n",
       "2010-01-05    12.47\n",
       "2010-01-06    12.75\n",
       "2010-01-07    12.83\n",
       "              ...  \n",
       "2017-12-21    51.16\n",
       "2017-12-22    51.05\n",
       "2017-12-27    51.45\n",
       "2017-12-28    51.65\n",
       "2017-12-29    51.76\n",
       "Freq: B, Name: open, Length: 2044, dtype: float64"
      ]
     },
     "execution_count": 4,
     "metadata": {},
     "output_type": "execute_result"
    }
   ],
   "source": [
    "#Converting the dataframe to a pandas series\n",
    "prices_series = prices['open']\n",
    "prices_series"
   ]
  },
  {
   "cell_type": "markdown",
   "id": "84a151d4",
   "metadata": {},
   "source": [
    "# Preprocessing"
   ]
  },
  {
   "cell_type": "markdown",
   "id": "3f1164e5",
   "metadata": {},
   "source": [
    "We use TimeSeriesSplit() to do cross-validation while respecting the time order of the data. We make a plot to visualize the train-test split for each cross validation fold."
   ]
  },
  {
   "cell_type": "code",
   "execution_count": 5,
   "id": "107d2083",
   "metadata": {},
   "outputs": [
    {
     "name": "stdout",
     "output_type": "stream",
     "text": [
      "LEN OF TRAIN_INDEX: 344 LEN OF TEST_INDEX: 340\n",
      "LEN OF TRAIN_INDEX: 684 LEN OF TEST_INDEX: 340\n",
      "LEN OF TRAIN_INDEX: 1024 LEN OF TEST_INDEX: 340\n",
      "LEN OF TRAIN_INDEX: 1364 LEN OF TEST_INDEX: 340\n",
      "LEN OF TRAIN_INDEX: 1704 LEN OF TEST_INDEX: 340\n"
     ]
    },
    {
     "data": {
      "image/png": "[encoded data removed]",
      "text/plain": [
       "<Figure size 640x480 with 1 Axes>"
      ]
     },
     "metadata": {},
     "output_type": "display_data"
    }
   ],
   "source": [
    "tscv = TimeSeriesSplit()\n",
    "\n",
    "fig, ax = plt.subplots()\n",
    "for ii, (train_index, test_index) in enumerate(tscv.split(prices_series)):\n",
    "    print(\"LEN OF TRAIN_INDEX:\", len(train_index), \"LEN OF TEST_INDEX:\", len(test_index))\n",
    "    l1 = ax.scatter(train_index, [ii] * len(train_index), c=[plt.cm.coolwarm(.1)],\n",
    "                   marker='_', lw=6)\n",
    "    l2 = ax.scatter(test_index, [ii] * len(test_index), c=[plt.cm.coolwarm(.9)],\n",
    "                   marker='_', lw=6)\n",
    "    ax.set(ylim=[10,-1], title='TimeSeriesSplit behavior', xlabel='data index', \n",
    "           ylabel='CV iteration')\n",
    "    ax.legend([l1,l2], ['Training', 'Validation'])"
   ]
  },
  {
   "cell_type": "markdown",
   "id": "b4d478d0",
   "metadata": {},
   "source": [
    "# Modeling"
   ]
  },
  {
   "cell_type": "markdown",
   "id": "a706694b",
   "metadata": {},
   "source": [
    "## ARIMA model"
   ]
  },
  {
   "cell_type": "markdown",
   "id": "a776f8ad",
   "metadata": {},
   "source": [
    "First, we do a hyperparameter search over the ARIMA parameters (p,d=1,q) with 5-fold cross-validation. We start by writing a function which computes the mean cross-validation MAPE score for a given choice of p and q.\n",
    "\n",
    "Note that we set d=1 because we have seen from the Data Wrangling notebook that the stock prices are not a stationary time series, but the first difference (i.e. the returns) is stationary."
   ]
  },
  {
   "cell_type": "code",
   "execution_count": 6,
   "id": "4fffd415",
   "metadata": {},
   "outputs": [],
   "source": [
    "def cv_score(p,q):\n",
    "\n",
    "    scores_list = []\n",
    "\n",
    "    for ii, (train_index, test_index) in enumerate(tscv.split(prices)):\n",
    "        train, test = list(tscv.split(prices))[ii][0], list(tscv.split(prices))[ii][1]\n",
    "        model = ARIMA(prices_series[train], order=(p,1,q))\n",
    "        results = model.fit()\n",
    "        prediction = results.predict(test[0],test[-1])\n",
    "        score = MAPE(prices_series[test], prediction)\n",
    "        scores_list.append(score)\n",
    "    \n",
    "    return sum(scores_list)/len(scores_list)"
   ]
  },
  {
   "cell_type": "markdown",
   "id": "b6277ed6",
   "metadata": {},
   "source": [
    "Then, we scan over a range of values of p and q and print out the mean MAPE score for each of them."
   ]
  },
  {
   "cell_type": "code",
   "execution_count": 7,
   "id": "0cbe6e91",
   "metadata": {},
   "outputs": [
    {
     "name": "stdout",
     "output_type": "stream",
     "text": [
      "p =  0 , q =  0 , mean MAPE score:  0.15526851359151878\n",
      "p =  0 , q =  1 , mean MAPE score:  0.15521659637740076\n",
      "p =  0 , q =  2 , mean MAPE score:  0.15529932401295218\n",
      "p =  0 , q =  3 , mean MAPE score:  0.15530708392588552\n",
      "p =  1 , q =  0 , mean MAPE score:  0.15520364558445693\n",
      "p =  1 , q =  1 , mean MAPE score:  0.15516422452477444\n",
      "p =  1 , q =  2 , mean MAPE score:  0.15535232892792078\n",
      "p =  1 , q =  3 , mean MAPE score:  0.15482586669276566\n",
      "p =  2 , q =  0 , mean MAPE score:  0.1552569669563942\n",
      "p =  2 , q =  1 , mean MAPE score:  0.15526398061921118\n",
      "p =  2 , q =  2 , mean MAPE score:  0.15173029227914586\n",
      "p =  2 , q =  3 , mean MAPE score:  0.15493923567776885\n",
      "p =  3 , q =  0 , mean MAPE score:  0.1552107666972572\n",
      "p =  3 , q =  1 , mean MAPE score:  0.15470934900534672\n",
      "p =  3 , q =  2 , mean MAPE score:  0.15479058979078802\n",
      "p =  3 , q =  3 , mean MAPE score:  0.15517719183716042\n"
     ]
    }
   ],
   "source": [
    "MAPE_score_dict = {}\n",
    "\n",
    "for p in range(4):\n",
    "    for q in range(4):\n",
    "        MAPE_score_dict[(p,q)] = cv_score(p,q)\n",
    "        print(\"p = \", p, \", q = \", q, \", mean MAPE score: \", cv_score(p,q))"
   ]
  },
  {
   "cell_type": "code",
   "execution_count": 8,
   "id": "49f46980",
   "metadata": {},
   "outputs": [
    {
     "data": {
      "text/plain": [
       "0.15173029227914586"
      ]
     },
     "execution_count": 8,
     "metadata": {},
     "output_type": "execute_result"
    }
   ],
   "source": [
    "#The smallest mean MAPE score is:\n",
    "min_MAPE = min(MAPE_score_dict.values())\n",
    "min_MAPE"
   ]
  },
  {
   "cell_type": "code",
   "execution_count": 9,
   "id": "2d25c81b",
   "metadata": {},
   "outputs": [
    {
     "data": {
      "text/plain": [
       "(2, 2)"
      ]
     },
     "execution_count": 9,
     "metadata": {},
     "output_type": "execute_result"
    }
   ],
   "source": [
    "#The value of p and q corresponding to the smallest MAPE score is:\n",
    "best_p_q = list(MAPE_score_dict.keys())[list(MAPE_score_dict.values()).index(min_MAPE)]\n",
    "best_p_q"
   ]
  },
  {
   "cell_type": "code",
   "execution_count": 18,
   "id": "c9940172",
   "metadata": {},
   "outputs": [
    {
     "data": {
      "image/png": "[encoded data removed]",
      "text/plain": [
       "<Figure size 640x480 with 1 Axes>"
      ]
     },
     "metadata": {},
     "output_type": "display_data"
    }
   ],
   "source": [
    "fig, ax = plt.subplots()\n",
    "res = ARIMA(prices_series, order=(2,0,2)).fit()\n",
    "plot_predict(res, start=1990, end=2044, ax=ax)\n",
    "prices.iloc[1500:].plot(ax=ax)\n",
    "plt.show()"
   ]
  },
  {
   "cell_type": "code",
   "execution_count": null,
   "id": "9d87ca1f",
   "metadata": {},
   "outputs": [],
   "source": []
  },
  {
   "cell_type": "markdown",
   "id": "925fe95d",
   "metadata": {},
   "source": [
    "## Exponential smoothing "
   ]
  },
  {
   "cell_type": "code",
   "execution_count": null,
   "id": "bac075ab",
   "metadata": {},
   "outputs": [],
   "source": []
  },
  {
   "cell_type": "markdown",
   "id": "4f4ba51e",
   "metadata": {},
   "source": [
    "## Facebook prophet"
   ]
  },
  {
   "cell_type": "code",
   "execution_count": null,
   "id": "39e8c963",
   "metadata": {},
   "outputs": [],
   "source": []
  }
 ],
 "metadata": {
  "kernelspec": {
   "display_name": "Python 3 (ipykernel)",
   "language": "python",
   "name": "python3"
  },
  "language_info": {
   "codemirror_mode": {
    "name": "ipython",
    "version": 3
   },
   "file_extension": ".py",
   "mimetype": "text/x-python",
   "name": "python",
   "nbconvert_exporter": "python",
   "pygments_lexer": "ipython3",
   "version": "3.9.13"
  }
 },
 "nbformat": 4,
 "nbformat_minor": 5
}
