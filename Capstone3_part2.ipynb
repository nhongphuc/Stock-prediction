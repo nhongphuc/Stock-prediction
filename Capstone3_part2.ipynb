{
 "cells": [
  {
   "cell_type": "code",
   "execution_count": 1,
   "id": "0a491e15",
   "metadata": {},
   "outputs": [],
   "source": [
    "#importing necessary packages \n",
    "\n",
    "from datetime import datetime\n",
    "import pandas as pd\n",
    "import numpy as np\n",
    "import matplotlib.pyplot as plt\n",
    "import seaborn as sns\n",
    "\n",
    "from statsmodels.tsa.seasonal import seasonal_decompose\n",
    "import statsmodels.api as sm\n",
    "from statsmodels.tsa.arima.model import ARIMA\n",
    "from statsmodels.graphics.tsaplots import plot_predict\n",
    "from sklearn.model_selection import TimeSeriesSplit\n",
    "from sklearn.metrics import mean_absolute_percentage_error as MAPE\n",
    "from statsmodels.tsa.holtwinters import SimpleExpSmoothing\n",
    "from prophet import Prophet"
   ]
  },
  {
   "cell_type": "code",
   "execution_count": 2,
   "id": "f6b9f3a3",
   "metadata": {},
   "outputs": [],
   "source": [
    "#Loading the csv file into dataframes\n",
    "\n",
    "prices = pd.read_csv('opening_prices.csv', index_col='date')\n",
    "\n",
    "prices.index = pd.DatetimeIndex(prices.index)\n",
    "\n",
    "prices = prices.to_period('B').sort_index()"
   ]
  },
  {
   "cell_type": "code",
   "execution_count": 3,
   "id": "8deb0e91",
   "metadata": {},
   "outputs": [
    {
     "data": {
      "text/html": [
       "<div>\n",
       "<style scoped>\n",
       "    .dataframe tbody tr th:only-of-type {\n",
       "        vertical-align: middle;\n",
       "    }\n",
       "\n",
       "    .dataframe tbody tr th {\n",
       "        vertical-align: top;\n",
       "    }\n",
       "\n",
       "    .dataframe thead th {\n",
       "        text-align: right;\n",
       "    }\n",
       "</style>\n",
       "<table border=\"1\" class=\"dataframe\">\n",
       "  <thead>\n",
       "    <tr style=\"text-align: right;\">\n",
       "      <th></th>\n",
       "      <th>open</th>\n",
       "    </tr>\n",
       "    <tr>\n",
       "      <th>date</th>\n",
       "      <th></th>\n",
       "    </tr>\n",
       "  </thead>\n",
       "  <tbody>\n",
       "    <tr>\n",
       "      <th>2010-01-01</th>\n",
       "      <td>12.36</td>\n",
       "    </tr>\n",
       "    <tr>\n",
       "      <th>2010-01-04</th>\n",
       "      <td>12.36</td>\n",
       "    </tr>\n",
       "    <tr>\n",
       "      <th>2010-01-05</th>\n",
       "      <td>12.47</td>\n",
       "    </tr>\n",
       "    <tr>\n",
       "      <th>2010-01-06</th>\n",
       "      <td>12.75</td>\n",
       "    </tr>\n",
       "    <tr>\n",
       "      <th>2010-01-07</th>\n",
       "      <td>12.83</td>\n",
       "    </tr>\n",
       "  </tbody>\n",
       "</table>\n",
       "</div>"
      ],
      "text/plain": [
       "             open\n",
       "date             \n",
       "2010-01-01  12.36\n",
       "2010-01-04  12.36\n",
       "2010-01-05  12.47\n",
       "2010-01-06  12.75\n",
       "2010-01-07  12.83"
      ]
     },
     "execution_count": 3,
     "metadata": {},
     "output_type": "execute_result"
    }
   ],
   "source": [
    "prices.head()"
   ]
  },
  {
   "cell_type": "code",
   "execution_count": 4,
   "id": "b698143b",
   "metadata": {},
   "outputs": [
    {
     "data": {
      "text/plain": [
       "date\n",
       "2010-01-01    12.36\n",
       "2010-01-04    12.36\n",
       "2010-01-05    12.47\n",
       "2010-01-06    12.75\n",
       "2010-01-07    12.83\n",
       "              ...  \n",
       "2017-12-21    51.16\n",
       "2017-12-22    51.05\n",
       "2017-12-27    51.45\n",
       "2017-12-28    51.65\n",
       "2017-12-29    51.76\n",
       "Freq: B, Name: open, Length: 2044, dtype: float64"
      ]
     },
     "execution_count": 4,
     "metadata": {},
     "output_type": "execute_result"
    }
   ],
   "source": [
    "#Converting the dataframe to a pandas series\n",
    "prices_series = prices['open']\n",
    "prices_series"
   ]
  },
  {
   "cell_type": "markdown",
   "id": "84a151d4",
   "metadata": {},
   "source": [
    "# Preprocessing"
   ]
  },
  {
   "cell_type": "markdown",
   "id": "3f1164e5",
   "metadata": {},
   "source": [
    "We use TimeSeriesSplit() to do cross-validation while respecting the time order of the data. We make a plot to visualize the train-test split for each cross validation fold."
   ]
  },
  {
   "cell_type": "code",
   "execution_count": 5,
   "id": "107d2083",
   "metadata": {},
   "outputs": [
    {
     "name": "stdout",
     "output_type": "stream",
     "text": [
      "LEN OF TRAIN_INDEX: 344 LEN OF TEST_INDEX: 340\n",
      "LEN OF TRAIN_INDEX: 684 LEN OF TEST_INDEX: 340\n",
      "LEN OF TRAIN_INDEX: 1024 LEN OF TEST_INDEX: 340\n",
      "LEN OF TRAIN_INDEX: 1364 LEN OF TEST_INDEX: 340\n",
      "LEN OF TRAIN_INDEX: 1704 LEN OF TEST_INDEX: 340\n"
     ]
    },
    {
     "data": {
      "image/png": "[encoded data removed]",
      "text/plain": [
       "<Figure size 640x480 with 1 Axes>"
      ]
     },
     "metadata": {},
     "output_type": "display_data"
    }
   ],
   "source": [
    "tscv = TimeSeriesSplit()\n",
    "\n",
    "fig, ax = plt.subplots()\n",
    "for ii, (train_index, test_index) in enumerate(tscv.split(prices_series)):\n",
    "    print(\"LEN OF TRAIN_INDEX:\", len(train_index), \"LEN OF TEST_INDEX:\", len(test_index))\n",
    "    l1 = ax.scatter(train_index, [ii] * len(train_index), c=[plt.cm.coolwarm(.1)],\n",
    "                   marker='_', lw=6)\n",
    "    l2 = ax.scatter(test_index, [ii] * len(test_index), c=[plt.cm.coolwarm(.9)],\n",
    "                   marker='_', lw=6)\n",
    "    ax.set(ylim=[10,-1], title='TimeSeriesSplit behavior', xlabel='data index', \n",
    "           ylabel='CV iteration')\n",
    "    ax.legend([l1,l2], ['Training', 'Validation'])"
   ]
  },
  {
   "cell_type": "markdown",
   "id": "b4d478d0",
   "metadata": {},
   "source": [
    "# Modeling"
   ]
  },
  {
   "cell_type": "markdown",
   "id": "a706694b",
   "metadata": {},
   "source": [
    "## ARIMA model"
   ]
  },
  {
   "cell_type": "markdown",
   "id": "a776f8ad",
   "metadata": {},
   "source": [
    "First, we do a hyperparameter search over the ARIMA parameters (p,d=1,q) with 5-fold cross-validation. We start by writing a function which computes the mean cross-validation MAPE score for a given choice of p and q.\n",
    "\n",
    "Note that we set d=1 because we have seen from the Data Wrangling notebook that the stock prices are not a stationary time series, but the first difference (i.e. the returns) is stationary."
   ]
  },
  {
   "cell_type": "code",
   "execution_count": 6,
   "id": "4fffd415",
   "metadata": {},
   "outputs": [],
   "source": [
    "def cv_score(p,q):\n",
    "\n",
    "    scores_list = []\n",
    "\n",
    "    for ii, (train_index, test_index) in enumerate(tscv.split(prices)):\n",
    "        train, test = list(tscv.split(prices))[ii][0], list(tscv.split(prices))[ii][1]\n",
    "        model = ARIMA(prices_series[train], order=(p,1,q))\n",
    "        results = model.fit()\n",
    "        prediction = results.predict(test[0],test[-1])\n",
    "        score = MAPE(prices_series[test], prediction)\n",
    "        scores_list.append(score)\n",
    "    \n",
    "    return sum(scores_list)/len(scores_list)"
   ]
  },
  {
   "cell_type": "markdown",
   "id": "b6277ed6",
   "metadata": {},
   "source": [
    "Then, we scan over a range of values of p and q and print out the mean MAPE score for each of them."
   ]
  },
  {
   "cell_type": "code",
   "execution_count": 7,
   "id": "0cbe6e91",
   "metadata": {},
   "outputs": [
    {
     "name": "stderr",
     "output_type": "stream",
     "text": [
      "/Users/phucnguyen/opt/anaconda3/lib/python3.9/site-packages/statsmodels/base/model.py:604: ConvergenceWarning: Maximum Likelihood optimization failed to converge. Check mle_retvals\n",
      "  warnings.warn(\"Maximum Likelihood optimization failed to \"\n",
      "/Users/phucnguyen/opt/anaconda3/lib/python3.9/site-packages/statsmodels/base/model.py:604: ConvergenceWarning: Maximum Likelihood optimization failed to converge. Check mle_retvals\n",
      "  warnings.warn(\"Maximum Likelihood optimization failed to \"\n"
     ]
    },
    {
     "name": "stdout",
     "output_type": "stream",
     "text": [
      "p =  0 , q =  0 , mean MAPE score:  0.15526851359151878\n",
      "p =  0 , q =  1 , mean MAPE score:  0.15521659637740076\n",
      "p =  0 , q =  2 , mean MAPE score:  0.15529932401295218\n",
      "p =  1 , q =  0 , mean MAPE score:  0.15520364558445693\n"
     ]
    },
    {
     "name": "stderr",
     "output_type": "stream",
     "text": [
      "/Users/phucnguyen/opt/anaconda3/lib/python3.9/site-packages/statsmodels/tsa/statespace/sarimax.py:966: UserWarning: Non-stationary starting autoregressive parameters found. Using zeros as starting parameters.\n",
      "  warn('Non-stationary starting autoregressive parameters'\n",
      "/Users/phucnguyen/opt/anaconda3/lib/python3.9/site-packages/statsmodels/tsa/statespace/sarimax.py:978: UserWarning: Non-invertible starting MA parameters found. Using zeros as starting parameters.\n",
      "  warn('Non-invertible starting MA parameters found.'\n",
      "/Users/phucnguyen/opt/anaconda3/lib/python3.9/site-packages/statsmodels/tsa/statespace/sarimax.py:966: UserWarning: Non-stationary starting autoregressive parameters found. Using zeros as starting parameters.\n",
      "  warn('Non-stationary starting autoregressive parameters'\n",
      "/Users/phucnguyen/opt/anaconda3/lib/python3.9/site-packages/statsmodels/tsa/statespace/sarimax.py:978: UserWarning: Non-invertible starting MA parameters found. Using zeros as starting parameters.\n",
      "  warn('Non-invertible starting MA parameters found.'\n",
      "/Users/phucnguyen/opt/anaconda3/lib/python3.9/site-packages/statsmodels/tsa/statespace/sarimax.py:966: UserWarning: Non-stationary starting autoregressive parameters found. Using zeros as starting parameters.\n",
      "  warn('Non-stationary starting autoregressive parameters'\n",
      "/Users/phucnguyen/opt/anaconda3/lib/python3.9/site-packages/statsmodels/tsa/statespace/sarimax.py:978: UserWarning: Non-invertible starting MA parameters found. Using zeros as starting parameters.\n",
      "  warn('Non-invertible starting MA parameters found.'\n",
      "/Users/phucnguyen/opt/anaconda3/lib/python3.9/site-packages/statsmodels/tsa/statespace/sarimax.py:966: UserWarning: Non-stationary starting autoregressive parameters found. Using zeros as starting parameters.\n",
      "  warn('Non-stationary starting autoregressive parameters'\n",
      "/Users/phucnguyen/opt/anaconda3/lib/python3.9/site-packages/statsmodels/tsa/statespace/sarimax.py:978: UserWarning: Non-invertible starting MA parameters found. Using zeros as starting parameters.\n",
      "  warn('Non-invertible starting MA parameters found.'\n"
     ]
    },
    {
     "name": "stdout",
     "output_type": "stream",
     "text": [
      "p =  1 , q =  1 , mean MAPE score:  0.15516422452477444\n",
      "p =  1 , q =  2 , mean MAPE score:  0.15535232892792078\n",
      "p =  2 , q =  0 , mean MAPE score:  0.1552569669563942\n"
     ]
    },
    {
     "name": "stderr",
     "output_type": "stream",
     "text": [
      "/Users/phucnguyen/opt/anaconda3/lib/python3.9/site-packages/statsmodels/tsa/statespace/sarimax.py:966: UserWarning: Non-stationary starting autoregressive parameters found. Using zeros as starting parameters.\n",
      "  warn('Non-stationary starting autoregressive parameters'\n",
      "/Users/phucnguyen/opt/anaconda3/lib/python3.9/site-packages/statsmodels/tsa/statespace/sarimax.py:978: UserWarning: Non-invertible starting MA parameters found. Using zeros as starting parameters.\n",
      "  warn('Non-invertible starting MA parameters found.'\n",
      "/Users/phucnguyen/opt/anaconda3/lib/python3.9/site-packages/statsmodels/tsa/statespace/sarimax.py:966: UserWarning: Non-stationary starting autoregressive parameters found. Using zeros as starting parameters.\n",
      "  warn('Non-stationary starting autoregressive parameters'\n",
      "/Users/phucnguyen/opt/anaconda3/lib/python3.9/site-packages/statsmodels/tsa/statespace/sarimax.py:978: UserWarning: Non-invertible starting MA parameters found. Using zeros as starting parameters.\n",
      "  warn('Non-invertible starting MA parameters found.'\n",
      "/Users/phucnguyen/opt/anaconda3/lib/python3.9/site-packages/statsmodels/tsa/statespace/sarimax.py:966: UserWarning: Non-stationary starting autoregressive parameters found. Using zeros as starting parameters.\n",
      "  warn('Non-stationary starting autoregressive parameters'\n",
      "/Users/phucnguyen/opt/anaconda3/lib/python3.9/site-packages/statsmodels/tsa/statespace/sarimax.py:978: UserWarning: Non-invertible starting MA parameters found. Using zeros as starting parameters.\n",
      "  warn('Non-invertible starting MA parameters found.'\n",
      "/Users/phucnguyen/opt/anaconda3/lib/python3.9/site-packages/statsmodels/tsa/statespace/sarimax.py:966: UserWarning: Non-stationary starting autoregressive parameters found. Using zeros as starting parameters.\n",
      "  warn('Non-stationary starting autoregressive parameters'\n",
      "/Users/phucnguyen/opt/anaconda3/lib/python3.9/site-packages/statsmodels/tsa/statespace/sarimax.py:978: UserWarning: Non-invertible starting MA parameters found. Using zeros as starting parameters.\n",
      "  warn('Non-invertible starting MA parameters found.'\n",
      "/Users/phucnguyen/opt/anaconda3/lib/python3.9/site-packages/statsmodels/tsa/statespace/sarimax.py:966: UserWarning: Non-stationary starting autoregressive parameters found. Using zeros as starting parameters.\n",
      "  warn('Non-stationary starting autoregressive parameters'\n",
      "/Users/phucnguyen/opt/anaconda3/lib/python3.9/site-packages/statsmodels/tsa/statespace/sarimax.py:978: UserWarning: Non-invertible starting MA parameters found. Using zeros as starting parameters.\n",
      "  warn('Non-invertible starting MA parameters found.'\n",
      "/Users/phucnguyen/opt/anaconda3/lib/python3.9/site-packages/statsmodels/tsa/statespace/sarimax.py:966: UserWarning: Non-stationary starting autoregressive parameters found. Using zeros as starting parameters.\n",
      "  warn('Non-stationary starting autoregressive parameters'\n",
      "/Users/phucnguyen/opt/anaconda3/lib/python3.9/site-packages/statsmodels/tsa/statespace/sarimax.py:978: UserWarning: Non-invertible starting MA parameters found. Using zeros as starting parameters.\n",
      "  warn('Non-invertible starting MA parameters found.'\n",
      "/Users/phucnguyen/opt/anaconda3/lib/python3.9/site-packages/statsmodels/tsa/statespace/sarimax.py:966: UserWarning: Non-stationary starting autoregressive parameters found. Using zeros as starting parameters.\n",
      "  warn('Non-stationary starting autoregressive parameters'\n",
      "/Users/phucnguyen/opt/anaconda3/lib/python3.9/site-packages/statsmodels/tsa/statespace/sarimax.py:978: UserWarning: Non-invertible starting MA parameters found. Using zeros as starting parameters.\n",
      "  warn('Non-invertible starting MA parameters found.'\n",
      "/Users/phucnguyen/opt/anaconda3/lib/python3.9/site-packages/statsmodels/tsa/statespace/sarimax.py:966: UserWarning: Non-stationary starting autoregressive parameters found. Using zeros as starting parameters.\n",
      "  warn('Non-stationary starting autoregressive parameters'\n",
      "/Users/phucnguyen/opt/anaconda3/lib/python3.9/site-packages/statsmodels/tsa/statespace/sarimax.py:978: UserWarning: Non-invertible starting MA parameters found. Using zeros as starting parameters.\n",
      "  warn('Non-invertible starting MA parameters found.'\n"
     ]
    },
    {
     "name": "stdout",
     "output_type": "stream",
     "text": [
      "p =  2 , q =  1 , mean MAPE score:  0.15526398061921118\n"
     ]
    },
    {
     "name": "stderr",
     "output_type": "stream",
     "text": [
      "/Users/phucnguyen/opt/anaconda3/lib/python3.9/site-packages/statsmodels/base/model.py:604: ConvergenceWarning: Maximum Likelihood optimization failed to converge. Check mle_retvals\n",
      "  warnings.warn(\"Maximum Likelihood optimization failed to \"\n",
      "/Users/phucnguyen/opt/anaconda3/lib/python3.9/site-packages/statsmodels/tsa/statespace/sarimax.py:966: UserWarning: Non-stationary starting autoregressive parameters found. Using zeros as starting parameters.\n",
      "  warn('Non-stationary starting autoregressive parameters'\n",
      "/Users/phucnguyen/opt/anaconda3/lib/python3.9/site-packages/statsmodels/tsa/statespace/sarimax.py:978: UserWarning: Non-invertible starting MA parameters found. Using zeros as starting parameters.\n",
      "  warn('Non-invertible starting MA parameters found.'\n",
      "/Users/phucnguyen/opt/anaconda3/lib/python3.9/site-packages/statsmodels/base/model.py:604: ConvergenceWarning: Maximum Likelihood optimization failed to converge. Check mle_retvals\n",
      "  warnings.warn(\"Maximum Likelihood optimization failed to \"\n",
      "/Users/phucnguyen/opt/anaconda3/lib/python3.9/site-packages/statsmodels/tsa/statespace/sarimax.py:966: UserWarning: Non-stationary starting autoregressive parameters found. Using zeros as starting parameters.\n",
      "  warn('Non-stationary starting autoregressive parameters'\n",
      "/Users/phucnguyen/opt/anaconda3/lib/python3.9/site-packages/statsmodels/tsa/statespace/sarimax.py:978: UserWarning: Non-invertible starting MA parameters found. Using zeros as starting parameters.\n",
      "  warn('Non-invertible starting MA parameters found.'\n"
     ]
    },
    {
     "name": "stdout",
     "output_type": "stream",
     "text": [
      "p =  2 , q =  2 , mean MAPE score:  0.15173029227914586\n"
     ]
    }
   ],
   "source": [
    "MAPE_score_dict = {}\n",
    "\n",
    "for p in range(3):\n",
    "    for q in range(3):\n",
    "        MAPE_score_dict[cv_score(p,q)] = (p,q)\n",
    "        print(\"p = \", p, \", q = \", q, \", mean MAPE score: \", cv_score(p,q))"
   ]
  },
  {
   "cell_type": "markdown",
   "id": "472a7bcc",
   "metadata": {},
   "source": [
    "We get warnings about failure of Maximum Likelihood Optimization to converge, and also of non-stationary values of the parameters of ARIMA models found. This means that ARIMA models are not very good at fitting the data, but we can still proceed."
   ]
  },
  {
   "cell_type": "code",
   "execution_count": 8,
   "id": "59682160",
   "metadata": {},
   "outputs": [],
   "source": [
    "#Print the list of MAPE scores, sorted from smallest to largest\n",
    "sorted_MAPE_scores = sorted(list(MAPE_score_dict.keys()))"
   ]
  },
  {
   "cell_type": "code",
   "execution_count": 9,
   "id": "49f46980",
   "metadata": {},
   "outputs": [
    {
     "name": "stdout",
     "output_type": "stream",
     "text": [
      "0.15173029227914586\n"
     ]
    }
   ],
   "source": [
    "#Print out the mallest mean MAPE score:\n",
    "print(sorted_MAPE_scores[0])"
   ]
  },
  {
   "cell_type": "code",
   "execution_count": 10,
   "id": "2d25c81b",
   "metadata": {},
   "outputs": [
    {
     "name": "stdout",
     "output_type": "stream",
     "text": [
      "(2, 2)\n"
     ]
    }
   ],
   "source": [
    "#The value of p and q corresponding to the smallest MAPE score:\n",
    "print(MAPE_score_dict[sorted_MAPE_scores[0]])"
   ]
  },
  {
   "cell_type": "code",
   "execution_count": 11,
   "id": "c9940172",
   "metadata": {},
   "outputs": [
    {
     "name": "stderr",
     "output_type": "stream",
     "text": [
      "/Users/phucnguyen/opt/anaconda3/lib/python3.9/site-packages/statsmodels/tsa/statespace/sarimax.py:966: UserWarning: Non-stationary starting autoregressive parameters found. Using zeros as starting parameters.\n",
      "  warn('Non-stationary starting autoregressive parameters'\n",
      "/Users/phucnguyen/opt/anaconda3/lib/python3.9/site-packages/statsmodels/base/model.py:604: ConvergenceWarning: Maximum Likelihood optimization failed to converge. Check mle_retvals\n",
      "  warnings.warn(\"Maximum Likelihood optimization failed to \"\n"
     ]
    },
    {
     "data": {
      "image/png": "[encoded data removed]",
      "text/plain": [
       "<Figure size 640x480 with 1 Axes>"
      ]
     },
     "metadata": {},
     "output_type": "display_data"
    }
   ],
   "source": [
    "#Choosing p and q to be the best values, and making a plot of the forecast.\n",
    "fig, ax = plt.subplots()\n",
    "res = ARIMA(prices_series[:1920], order=(2,0,2)).fit()\n",
    "plot_predict(res, start=1920, end=2044, ax=ax)\n",
    "prices.plot(ax=ax)\n",
    "plt.show()"
   ]
  },
  {
   "cell_type": "code",
   "execution_count": 12,
   "id": "5e8a74c4",
   "metadata": {},
   "outputs": [
    {
     "data": {
      "text/html": [
       "<table class=\"simpletable\">\n",
       "<caption>SARIMAX Results</caption>\n",
       "<tr>\n",
       "  <th>Dep. Variable:</th>         <td>open</td>       <th>  No. Observations:  </th>   <td>1920</td>   \n",
       "</tr>\n",
       "<tr>\n",
       "  <th>Model:</th>            <td>ARIMA(2, 0, 2)</td>  <th>  Log Likelihood     </th> <td>-1017.306</td>\n",
       "</tr>\n",
       "<tr>\n",
       "  <th>Date:</th>            <td>Thu, 01 Jun 2023</td> <th>  AIC                </th> <td>2046.611</td> \n",
       "</tr>\n",
       "<tr>\n",
       "  <th>Time:</th>                <td>10:38:19</td>     <th>  BIC                </th> <td>2079.972</td> \n",
       "</tr>\n",
       "<tr>\n",
       "  <th>Sample:</th>             <td>01-01-2010</td>    <th>  HQIC               </th> <td>2058.886</td> \n",
       "</tr>\n",
       "<tr>\n",
       "  <th></th>                   <td>- 07-04-2017</td>   <th>                     </th>     <td> </td>    \n",
       "</tr>\n",
       "<tr>\n",
       "  <th>Covariance Type:</th>        <td>opg</td>       <th>                     </th>     <td> </td>    \n",
       "</tr>\n",
       "</table>\n",
       "<table class=\"simpletable\">\n",
       "<tr>\n",
       "     <td></td>       <th>coef</th>     <th>std err</th>      <th>z</th>      <th>P>|z|</th>  <th>[0.025</th>    <th>0.975]</th>  \n",
       "</tr>\n",
       "<tr>\n",
       "  <th>const</th>  <td>   27.5502</td> <td>   12.053</td> <td>    2.286</td> <td> 0.022</td> <td>    3.927</td> <td>   51.173</td>\n",
       "</tr>\n",
       "<tr>\n",
       "  <th>ar.L1</th>  <td>    0.0182</td> <td>    0.015</td> <td>    1.214</td> <td> 0.225</td> <td>   -0.011</td> <td>    0.048</td>\n",
       "</tr>\n",
       "<tr>\n",
       "  <th>ar.L2</th>  <td>    0.9812</td> <td>    0.015</td> <td>   65.641</td> <td> 0.000</td> <td>    0.952</td> <td>    1.011</td>\n",
       "</tr>\n",
       "<tr>\n",
       "  <th>ma.L1</th>  <td>    0.8334</td> <td>    0.020</td> <td>   42.630</td> <td> 0.000</td> <td>    0.795</td> <td>    0.872</td>\n",
       "</tr>\n",
       "<tr>\n",
       "  <th>ma.L2</th>  <td>   -0.1325</td> <td>    0.013</td> <td>  -10.351</td> <td> 0.000</td> <td>   -0.158</td> <td>   -0.107</td>\n",
       "</tr>\n",
       "<tr>\n",
       "  <th>sigma2</th> <td>    0.1683</td> <td>    0.002</td> <td>   68.130</td> <td> 0.000</td> <td>    0.163</td> <td>    0.173</td>\n",
       "</tr>\n",
       "</table>\n",
       "<table class=\"simpletable\">\n",
       "<tr>\n",
       "  <th>Ljung-Box (L1) (Q):</th>     <td>0.22</td> <th>  Jarque-Bera (JB):  </th> <td>8509.11</td>\n",
       "</tr>\n",
       "<tr>\n",
       "  <th>Prob(Q):</th>                <td>0.64</td> <th>  Prob(JB):          </th>  <td>0.00</td>  \n",
       "</tr>\n",
       "<tr>\n",
       "  <th>Heteroskedasticity (H):</th> <td>4.76</td> <th>  Skew:              </th>  <td>-0.28</td> \n",
       "</tr>\n",
       "<tr>\n",
       "  <th>Prob(H) (two-sided):</th>    <td>0.00</td> <th>  Kurtosis:          </th>  <td>13.30</td> \n",
       "</tr>\n",
       "</table><br/><br/>Warnings:<br/>[1] Covariance matrix calculated using the outer product of gradients (complex-step)."
      ],
      "text/plain": [
       "<class 'statsmodels.iolib.summary.Summary'>\n",
       "\"\"\"\n",
       "                               SARIMAX Results                                \n",
       "==============================================================================\n",
       "Dep. Variable:                   open   No. Observations:                 1920\n",
       "Model:                 ARIMA(2, 0, 2)   Log Likelihood               -1017.306\n",
       "Date:                Thu, 01 Jun 2023   AIC                           2046.611\n",
       "Time:                        10:38:19   BIC                           2079.972\n",
       "Sample:                    01-01-2010   HQIC                          2058.886\n",
       "                         - 07-04-2017                                         \n",
       "Covariance Type:                  opg                                         \n",
       "==============================================================================\n",
       "                 coef    std err          z      P>|z|      [0.025      0.975]\n",
       "------------------------------------------------------------------------------\n",
       "const         27.5502     12.053      2.286      0.022       3.927      51.173\n",
       "ar.L1          0.0182      0.015      1.214      0.225      -0.011       0.048\n",
       "ar.L2          0.9812      0.015     65.641      0.000       0.952       1.011\n",
       "ma.L1          0.8334      0.020     42.630      0.000       0.795       0.872\n",
       "ma.L2         -0.1325      0.013    -10.351      0.000      -0.158      -0.107\n",
       "sigma2         0.1683      0.002     68.130      0.000       0.163       0.173\n",
       "===================================================================================\n",
       "Ljung-Box (L1) (Q):                   0.22   Jarque-Bera (JB):              8509.11\n",
       "Prob(Q):                              0.64   Prob(JB):                         0.00\n",
       "Heteroskedasticity (H):               4.76   Skew:                            -0.28\n",
       "Prob(H) (two-sided):                  0.00   Kurtosis:                        13.30\n",
       "===================================================================================\n",
       "\n",
       "Warnings:\n",
       "[1] Covariance matrix calculated using the outer product of gradients (complex-step).\n",
       "\"\"\""
      ]
     },
     "execution_count": 12,
     "metadata": {},
     "output_type": "execute_result"
    }
   ],
   "source": [
    "#Print out a summary of the model\n",
    "res.summary()"
   ]
  },
  {
   "cell_type": "markdown",
   "id": "925fe95d",
   "metadata": {},
   "source": [
    "## Exponential smoothing "
   ]
  },
  {
   "cell_type": "markdown",
   "id": "dc2e1c92",
   "metadata": {},
   "source": [
    "Next, we use Simple Exponential Smoothing. We apply cross-validation in the same way as we did for the ARIMA model:"
   ]
  },
  {
   "cell_type": "code",
   "execution_count": 13,
   "id": "bac075ab",
   "metadata": {},
   "outputs": [],
   "source": [
    "scores_list = []\n",
    "\n",
    "for ii, (train_index, test_index) in enumerate(tscv.split(prices)):\n",
    "        train, test = list(tscv.split(prices))[ii][0], list(tscv.split(prices))[ii][1]\n",
    "        model = SimpleExpSmoothing(prices_series[train])\n",
    "        results = model.fit()\n",
    "        prediction = results.predict(test[0],test[-1])\n",
    "        score = MAPE(prices_series[test], prediction)\n",
    "        scores_list.append(score)"
   ]
  },
  {
   "cell_type": "markdown",
   "id": "e670005d",
   "metadata": {},
   "source": [
    "The mean cross-validation score is:"
   ]
  },
  {
   "cell_type": "code",
   "execution_count": 14,
   "id": "f4845d80",
   "metadata": {},
   "outputs": [
    {
     "name": "stdout",
     "output_type": "stream",
     "text": [
      "0.15523009393135917\n"
     ]
    }
   ],
   "source": [
    "print(sum(scores_list)/len(scores_list))"
   ]
  },
  {
   "cell_type": "code",
   "execution_count": 15,
   "id": "6447c217",
   "metadata": {},
   "outputs": [
    {
     "data": {
      "text/html": [
       "<table class=\"simpletable\">\n",
       "<caption>SimpleExpSmoothing Model Results</caption>\n",
       "<tr>\n",
       "  <th>Dep. Variable:</th>           <td>open</td>        <th>  No. Observations:  </th>       <td>1704</td>      \n",
       "</tr>\n",
       "<tr>\n",
       "  <th>Model:</th>            <td>SimpleExpSmoothing</td> <th>  SSE                </th>      <td>251.103</td>    \n",
       "</tr>\n",
       "<tr>\n",
       "  <th>Optimized:</th>               <td>True</td>        <th>  AIC                </th>     <td>-3258.936</td>   \n",
       "</tr>\n",
       "<tr>\n",
       "  <th>Trend:</th>                   <td>None</td>        <th>  BIC                </th>     <td>-3248.054</td>   \n",
       "</tr>\n",
       "<tr>\n",
       "  <th>Seasonal:</th>                <td>None</td>        <th>  AICC               </th>     <td>-3258.912</td>   \n",
       "</tr>\n",
       "<tr>\n",
       "  <th>Seasonal Periods:</th>        <td>None</td>        <th>  Date:              </th> <td>Thu, 01 Jun 2023</td>\n",
       "</tr>\n",
       "<tr>\n",
       "  <th>Box-Cox:</th>                 <td>False</td>       <th>  Time:              </th>     <td>10:38:19</td>    \n",
       "</tr>\n",
       "<tr>\n",
       "  <th>Box-Cox Coeff.:</th>          <td>None</td>        <th>                     </th>         <td> </td>       \n",
       "</tr>\n",
       "</table>\n",
       "<table class=\"simpletable\">\n",
       "<tr>\n",
       "         <td></td>                 <th>coeff</th>                <th>code</th>               <th>optimized</th>     \n",
       "</tr>\n",
       "<tr>\n",
       "  <th>smoothing_level</th> <td>           0.8685183</td> <td>               alpha</td> <td>                True</td>\n",
       "</tr>\n",
       "<tr>\n",
       "  <th>initial_level</th>   <td>           12.362564</td> <td>                 l.0</td> <td>                True</td>\n",
       "</tr>\n",
       "</table>"
      ],
      "text/plain": [
       "<class 'statsmodels.iolib.summary.Summary'>\n",
       "\"\"\"\n",
       "                       SimpleExpSmoothing Model Results                       \n",
       "==============================================================================\n",
       "Dep. Variable:                   open   No. Observations:                 1704\n",
       "Model:             SimpleExpSmoothing   SSE                            251.103\n",
       "Optimized:                       True   AIC                          -3258.936\n",
       "Trend:                           None   BIC                          -3248.054\n",
       "Seasonal:                        None   AICC                         -3258.912\n",
       "Seasonal Periods:                None   Date:                 Thu, 01 Jun 2023\n",
       "Box-Cox:                        False   Time:                         10:38:19\n",
       "Box-Cox Coeff.:                  None                                         \n",
       "==============================================================================\n",
       "                       coeff                 code              optimized      \n",
       "------------------------------------------------------------------------------\n",
       "smoothing_level            0.8685183                alpha                 True\n",
       "initial_level              12.362564                  l.0                 True\n",
       "------------------------------------------------------------------------------\n",
       "\"\"\""
      ]
     },
     "execution_count": 15,
     "metadata": {},
     "output_type": "execute_result"
    }
   ],
   "source": [
    "#Print a summary of the model\n",
    "model = SimpleExpSmoothing(prices_series[train])\n",
    "model.fit().summary()"
   ]
  },
  {
   "cell_type": "markdown",
   "id": "2dc62566",
   "metadata": {},
   "source": [
    "We see that the exponential smoothing model has much lower AIC and BIC compared to the ARIMA model, so the exponential smoothing is better than ARIMA."
   ]
  },
  {
   "cell_type": "code",
   "execution_count": 16,
   "id": "379e93f6",
   "metadata": {},
   "outputs": [
    {
     "data": {
      "image/png": "[encoded data removed]",
      "text/plain": [
       "<Figure size 640x480 with 1 Axes>"
      ]
     },
     "metadata": {},
     "output_type": "display_data"
    }
   ],
   "source": [
    "#Choosing p and q to be the best values, and making a plot of the forecast.\n",
    "fig, ax = plt.subplots()\n",
    "res = SimpleExpSmoothing(prices_series[:1920]).fit()\n",
    "predictions = res.predict(start=1920, end=2044)\n",
    "prices.plot(ax=ax,label='Actual opening prices')\n",
    "predictions.plot(ax=ax, label='Forecast')\n",
    "ax.legend()\n",
    "plt.show()"
   ]
  },
  {
   "cell_type": "markdown",
   "id": "4f4ba51e",
   "metadata": {},
   "source": [
    "## Facebook prophet"
   ]
  },
  {
   "cell_type": "code",
   "execution_count": 17,
   "id": "39e8c963",
   "metadata": {},
   "outputs": [
    {
     "name": "stderr",
     "output_type": "stream",
     "text": [
      "10:38:21 - cmdstanpy - INFO - Chain [1] start processing\n",
      "10:38:21 - cmdstanpy - INFO - Chain [1] done processing\n",
      "10:38:21 - cmdstanpy - INFO - Chain [1] start processing\n",
      "10:38:21 - cmdstanpy - INFO - Chain [1] done processing\n",
      "10:38:22 - cmdstanpy - INFO - Chain [1] start processing\n",
      "10:38:22 - cmdstanpy - INFO - Chain [1] done processing\n",
      "10:38:23 - cmdstanpy - INFO - Chain [1] start processing\n",
      "10:38:24 - cmdstanpy - INFO - Chain [1] done processing\n",
      "10:38:24 - cmdstanpy - INFO - Chain [1] start processing\n",
      "10:38:25 - cmdstanpy - INFO - Chain [1] done processing\n"
     ]
    }
   ],
   "source": [
    "scores_list = []\n",
    "\n",
    "for ii, (train_index, test_index) in enumerate(tscv.split(prices)):\n",
    "        train, test = list(tscv.split(prices))[ii][0], list(tscv.split(prices))[ii][1]\n",
    "        model = Prophet()\n",
    "        \n",
    "        #We have to put the data in the right format to use Prophet: the 'date' column has to be renamed 'ds',\n",
    "        #and the column containing the time series itself has to be named 'y'\n",
    "        df = prices_series[train].to_frame().reset_index().rename(columns={\"date\":\"ds\",\"open\":\"y\"})\n",
    "        df['ds'] = df['ds'].dt.to_timestamp()\n",
    "        results = model.fit(df)\n",
    "        future = model.make_future_dataframe(periods=len(test), freq='D')\n",
    "        prediction = results.predict(future)\n",
    "        score = MAPE(prices_series[test], prediction[len(train):]['yhat'])\n",
    "        scores_list.append(score)"
   ]
  },
  {
   "cell_type": "code",
   "execution_count": 18,
   "id": "28eeaa0f",
   "metadata": {
    "scrolled": true
   },
   "outputs": [
    {
     "name": "stdout",
     "output_type": "stream",
     "text": [
      "0.10459194155739997\n"
     ]
    }
   ],
   "source": [
    "#Print out the mean MAPE score\n",
    "\n",
    "print(sum(scores_list)/len(scores_list))"
   ]
  },
  {
   "cell_type": "code",
   "execution_count": 21,
   "id": "48b92bd6",
   "metadata": {},
   "outputs": [
    {
     "name": "stderr",
     "output_type": "stream",
     "text": [
      "10:39:33 - cmdstanpy - INFO - Chain [1] start processing\n",
      "10:39:33 - cmdstanpy - INFO - Chain [1] done processing\n"
     ]
    },
    {
     "data": {
      "image/png": "[encoded data removed]",
      "text/plain": [
       "<Figure size 640x480 with 1 Axes>"
      ]
     },
     "metadata": {},
     "output_type": "display_data"
    }
   ],
   "source": [
    "#Choosing p and q to be the best values, and making a plot of the forecast.\n",
    "fig, ax = plt.subplots()\n",
    "prophet_model = Prophet()\n",
    "df = prices_series[train].to_frame().reset_index().rename(columns={\"date\":\"ds\",\"open\":\"y\"})\n",
    "df['ds'] = df['ds'].dt.to_timestamp()\n",
    "results = prophet_model.fit(df)\n",
    "future = prophet_model.make_future_dataframe(periods=len(test), freq='D')\n",
    "prediction = results.predict(future)\n",
    "\n",
    "\n",
    "prices_series.to_frame().reset_index().plot(ax=ax,label='Actual opening prices')\n",
    "prediction[len(train):]['yhat'].plot(ax=ax, label='Forecast')\n",
    "prediction[len(train):]['yhat_lower'].plot(ax=ax, label ='Confidence interval lower limit')\n",
    "prediction[len(train):]['yhat_upper'].plot(ax=ax, label = 'Confidence interval upper limit')\n",
    "\n",
    "ax.legend()\n",
    "plt.show()"
   ]
  },
  {
   "cell_type": "markdown",
   "id": "14143dae",
   "metadata": {},
   "source": [
    "The Facebook prophet model is the best model."
   ]
  }
 ],
 "metadata": {
  "kernelspec": {
   "display_name": "Python 3 (ipykernel)",
   "language": "python",
   "name": "python3"
  },
  "language_info": {
   "codemirror_mode": {
    "name": "ipython",
    "version": 3
   },
   "file_extension": ".py",
   "mimetype": "text/x-python",
   "name": "python",
   "nbconvert_exporter": "python",
   "pygments_lexer": "ipython3",
   "version": "3.9.13"
  }
 },
 "nbformat": 4,
 "nbformat_minor": 5
}
