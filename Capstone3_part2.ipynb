{
 "cells": [
  {
   "cell_type": "code",
   "execution_count": 1,
   "id": "0a491e15",
   "metadata": {},
   "outputs": [],
   "source": [
    "#importing necessary packages \n",
    "\n",
    "from datetime import datetime\n",
    "import pandas as pd\n",
    "import numpy as np\n",
    "import matplotlib.pyplot as plt\n",
    "import seaborn as sns\n",
    "from statsmodels.tsa.arima.model import ARIMA"
   ]
  },
  {
   "cell_type": "code",
   "execution_count": 2,
   "id": "f6b9f3a3",
   "metadata": {},
   "outputs": [],
   "source": [
    "#Loading the csv file into dataframes\n",
    "\n",
    "returns = pd.read_csv('returns.csv', index_col='date')\n",
    "\n",
    "returns.index = pd.DatetimeIndex(returns.index).to_period('D')"
   ]
  },
  {
   "cell_type": "code",
   "execution_count": 4,
   "id": "8deb0e91",
   "metadata": {},
   "outputs": [
    {
     "data": {
      "text/html": [
       "<div>\n",
       "<style scoped>\n",
       "    .dataframe tbody tr th:only-of-type {\n",
       "        vertical-align: middle;\n",
       "    }\n",
       "\n",
       "    .dataframe tbody tr th {\n",
       "        vertical-align: top;\n",
       "    }\n",
       "\n",
       "    .dataframe thead th {\n",
       "        text-align: right;\n",
       "    }\n",
       "</style>\n",
       "<table border=\"1\" class=\"dataframe\">\n",
       "  <thead>\n",
       "    <tr style=\"text-align: right;\">\n",
       "      <th></th>\n",
       "      <th>return</th>\n",
       "    </tr>\n",
       "    <tr>\n",
       "      <th>date</th>\n",
       "      <th></th>\n",
       "    </tr>\n",
       "  </thead>\n",
       "  <tbody>\n",
       "    <tr>\n",
       "      <th>2010-01-10</th>\n",
       "      <td>0.042071</td>\n",
       "    </tr>\n",
       "    <tr>\n",
       "      <th>2010-01-17</th>\n",
       "      <td>0.009317</td>\n",
       "    </tr>\n",
       "    <tr>\n",
       "      <th>2010-01-24</th>\n",
       "      <td>-0.061538</td>\n",
       "    </tr>\n",
       "    <tr>\n",
       "      <th>2010-01-31</th>\n",
       "      <td>-0.035246</td>\n",
       "    </tr>\n",
       "    <tr>\n",
       "      <th>2010-02-07</th>\n",
       "      <td>0.071368</td>\n",
       "    </tr>\n",
       "  </tbody>\n",
       "</table>\n",
       "</div>"
      ],
      "text/plain": [
       "              return\n",
       "date                \n",
       "2010-01-10  0.042071\n",
       "2010-01-17  0.009317\n",
       "2010-01-24 -0.061538\n",
       "2010-01-31 -0.035246\n",
       "2010-02-07  0.071368"
      ]
     },
     "execution_count": 4,
     "metadata": {},
     "output_type": "execute_result"
    }
   ],
   "source": [
    "returns.head()"
   ]
  },
  {
   "cell_type": "code",
   "execution_count": null,
   "id": "177a266f",
   "metadata": {},
   "outputs": [],
   "source": []
  },
  {
   "cell_type": "markdown",
   "id": "84a151d4",
   "metadata": {},
   "source": [
    "# Preprocessing"
   ]
  },
  {
   "cell_type": "code",
   "execution_count": null,
   "id": "107d2083",
   "metadata": {},
   "outputs": [],
   "source": []
  },
  {
   "cell_type": "markdown",
   "id": "b4d478d0",
   "metadata": {},
   "source": [
    "# Modeling"
   ]
  },
  {
   "cell_type": "markdown",
   "id": "a706694b",
   "metadata": {},
   "source": [
    "## ARIMA model"
   ]
  },
  {
   "cell_type": "code",
   "execution_count": 7,
   "id": "49f46980",
   "metadata": {},
   "outputs": [
    {
     "name": "stderr",
     "output_type": "stream",
     "text": [
      "/Users/phucnguyen/opt/anaconda3/lib/python3.9/site-packages/statsmodels/tsa/statespace/sarimax.py:966: UserWarning: Non-stationary starting autoregressive parameters found. Using zeros as starting parameters.\n",
      "  warn('Non-stationary starting autoregressive parameters'\n",
      "/Users/phucnguyen/opt/anaconda3/lib/python3.9/site-packages/statsmodels/tsa/statespace/sarimax.py:978: UserWarning: Non-invertible starting MA parameters found. Using zeros as starting parameters.\n",
      "  warn('Non-invertible starting MA parameters found.'\n"
     ]
    }
   ],
   "source": [
    "order_aic_bic=[]\n",
    "\n",
    "for p in range(3):\n",
    "    for q in range(3): \n",
    "        model = ARIMA(returns, order=(p,0,q))\n",
    "        results = model.fit()\n",
    "        order_aic_bic.append((p,q, results.aic, results.bic))"
   ]
  },
  {
   "cell_type": "code",
   "execution_count": 9,
   "id": "2d25c81b",
   "metadata": {},
   "outputs": [
    {
     "data": {
      "text/plain": [
       "[(0, 0, -1597.9639885920164, -1589.8978161484188),\n",
       " (0, 1, -1605.1637752109282, -1593.0645165455317),\n",
       " (0, 2, -1603.7799586165463, -1587.6476137293512),\n",
       " (1, 0, -1604.4659199586156, -1592.3666612932193),\n",
       " (1, 1, -1604.7895044596544, -1588.6571595724592),\n",
       " (1, 2, -1604.0001618077185, -1583.8347306987246),\n",
       " (2, 0, -1603.1319619306842, -1586.999617043489),\n",
       " (2, 1, -1601.2958203892458, -1581.1303892802518),\n",
       " (2, 2, -1601.9377346721121, -1577.7392173413193)]"
      ]
     },
     "execution_count": 9,
     "metadata": {},
     "output_type": "execute_result"
    }
   ],
   "source": [
    "order_aic_bic"
   ]
  },
  {
   "cell_type": "markdown",
   "id": "925fe95d",
   "metadata": {},
   "source": [
    "## Exponential smoothing "
   ]
  },
  {
   "cell_type": "code",
   "execution_count": null,
   "id": "bac075ab",
   "metadata": {},
   "outputs": [],
   "source": []
  },
  {
   "cell_type": "markdown",
   "id": "4f4ba51e",
   "metadata": {},
   "source": [
    "## Facebook prophet"
   ]
  },
  {
   "cell_type": "code",
   "execution_count": null,
   "id": "39e8c963",
   "metadata": {},
   "outputs": [],
   "source": []
  }
 ],
 "metadata": {
  "kernelspec": {
   "display_name": "Python 3 (ipykernel)",
   "language": "python",
   "name": "python3"
  },
  "language_info": {
   "codemirror_mode": {
    "name": "ipython",
    "version": 3
   },
   "file_extension": ".py",
   "mimetype": "text/x-python",
   "name": "python",
   "nbconvert_exporter": "python",
   "pygments_lexer": "ipython3",
   "version": "3.9.13"
  }
 },
 "nbformat": 4,
 "nbformat_minor": 5
}
