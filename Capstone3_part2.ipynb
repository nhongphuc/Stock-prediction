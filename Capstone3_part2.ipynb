{
 "cells": [
  {
   "cell_type": "code",
   "execution_count": 1,
   "id": "0a491e15",
   "metadata": {},
   "outputs": [],
   "source": [
    "#importing necessary packages \n",
    "\n",
    "from datetime import datetime\n",
    "import pandas as pd\n",
    "import numpy as np\n",
    "import matplotlib.pyplot as plt\n",
    "import seaborn as sns\n",
    "\n",
    "from statsmodels.tsa.seasonal import seasonal_decompose\n",
    "import statsmodels.api as sm\n",
    "from statsmodels.tsa.arima.model import ARIMA\n",
    "from statsmodels.graphics.tsaplots import plot_predict\n",
    "from sklearn.model_selection import TimeSeriesSplit\n",
    "from sklearn.metrics import mean_absolute_percentage_error as MAPE\n",
    "from statsmodels.tsa.holtwinters import SimpleExpSmoothing, ExponentialSmoothing\n",
    "from prophet import Prophet"
   ]
  },
  {
   "cell_type": "code",
   "execution_count": 2,
   "id": "f6b9f3a3",
   "metadata": {},
   "outputs": [],
   "source": [
    "#Loading the csv file into dataframes\n",
    "\n",
    "prices = pd.read_csv('opening_prices.csv', index_col='date')\n",
    "\n",
    "prices.index = pd.DatetimeIndex(prices.index)\n",
    "\n",
    "prices = prices.to_period('B').sort_index()"
   ]
  },
  {
   "cell_type": "code",
   "execution_count": 3,
   "id": "8deb0e91",
   "metadata": {},
   "outputs": [
    {
     "data": {
      "text/html": [
       "<div>\n",
       "<style scoped>\n",
       "    .dataframe tbody tr th:only-of-type {\n",
       "        vertical-align: middle;\n",
       "    }\n",
       "\n",
       "    .dataframe tbody tr th {\n",
       "        vertical-align: top;\n",
       "    }\n",
       "\n",
       "    .dataframe thead th {\n",
       "        text-align: right;\n",
       "    }\n",
       "</style>\n",
       "<table border=\"1\" class=\"dataframe\">\n",
       "  <thead>\n",
       "    <tr style=\"text-align: right;\">\n",
       "      <th></th>\n",
       "      <th>open</th>\n",
       "    </tr>\n",
       "    <tr>\n",
       "      <th>date</th>\n",
       "      <th></th>\n",
       "    </tr>\n",
       "  </thead>\n",
       "  <tbody>\n",
       "    <tr>\n",
       "      <th>2010-01-01</th>\n",
       "      <td>12.36</td>\n",
       "    </tr>\n",
       "    <tr>\n",
       "      <th>2010-01-04</th>\n",
       "      <td>12.36</td>\n",
       "    </tr>\n",
       "    <tr>\n",
       "      <th>2010-01-05</th>\n",
       "      <td>12.47</td>\n",
       "    </tr>\n",
       "    <tr>\n",
       "      <th>2010-01-06</th>\n",
       "      <td>12.75</td>\n",
       "    </tr>\n",
       "    <tr>\n",
       "      <th>2010-01-07</th>\n",
       "      <td>12.83</td>\n",
       "    </tr>\n",
       "  </tbody>\n",
       "</table>\n",
       "</div>"
      ],
      "text/plain": [
       "             open\n",
       "date             \n",
       "2010-01-01  12.36\n",
       "2010-01-04  12.36\n",
       "2010-01-05  12.47\n",
       "2010-01-06  12.75\n",
       "2010-01-07  12.83"
      ]
     },
     "execution_count": 3,
     "metadata": {},
     "output_type": "execute_result"
    }
   ],
   "source": [
    "prices.head()"
   ]
  },
  {
   "cell_type": "code",
   "execution_count": 4,
   "id": "b698143b",
   "metadata": {},
   "outputs": [
    {
     "data": {
      "text/plain": [
       "date\n",
       "2010-01-01    12.36\n",
       "2010-01-04    12.36\n",
       "2010-01-05    12.47\n",
       "2010-01-06    12.75\n",
       "2010-01-07    12.83\n",
       "              ...  \n",
       "2017-12-21    51.16\n",
       "2017-12-22    51.05\n",
       "2017-12-27    51.45\n",
       "2017-12-28    51.65\n",
       "2017-12-29    51.76\n",
       "Freq: B, Name: open, Length: 2044, dtype: float64"
      ]
     },
     "execution_count": 4,
     "metadata": {},
     "output_type": "execute_result"
    }
   ],
   "source": [
    "#Converting the dataframe to a pandas series\n",
    "prices_series = prices['open']\n",
    "prices_series"
   ]
  },
  {
   "cell_type": "markdown",
   "id": "84a151d4",
   "metadata": {},
   "source": [
    "# Setting up the cross-validation"
   ]
  },
  {
   "cell_type": "markdown",
   "id": "3f1164e5",
   "metadata": {},
   "source": [
    "We use TimeSeriesSplit() to do cross-validation while respecting the time order of the data. We make a plot to visualize the train-test split for each cross validation fold."
   ]
  },
  {
   "cell_type": "code",
   "execution_count": 5,
   "id": "107d2083",
   "metadata": {},
   "outputs": [
    {
     "name": "stdout",
     "output_type": "stream",
     "text": [
      "LEN OF TRAIN_INDEX: 344 LEN OF TEST_INDEX: 340\n",
      "LEN OF TRAIN_INDEX: 684 LEN OF TEST_INDEX: 340\n",
      "LEN OF TRAIN_INDEX: 1024 LEN OF TEST_INDEX: 340\n",
      "LEN OF TRAIN_INDEX: 1364 LEN OF TEST_INDEX: 340\n",
      "LEN OF TRAIN_INDEX: 1704 LEN OF TEST_INDEX: 340\n"
     ]
    },
    {
     "data": {
      "image/png": "[encoded data removed]",
      "text/plain": [
       "<Figure size 640x480 with 1 Axes>"
      ]
     },
     "metadata": {},
     "output_type": "display_data"
    }
   ],
   "source": [
    "tscv = TimeSeriesSplit()\n",
    "\n",
    "fig, ax = plt.subplots()\n",
    "for ii, (train_index, test_index) in enumerate(tscv.split(prices_series)):\n",
    "    print(\"LEN OF TRAIN_INDEX:\", len(train_index), \"LEN OF TEST_INDEX:\", len(test_index))\n",
    "    l1 = ax.scatter(train_index, [ii] * len(train_index), c=[plt.cm.coolwarm(.1)],\n",
    "                   marker='_', lw=6)\n",
    "    l2 = ax.scatter(test_index, [ii] * len(test_index), c=[plt.cm.coolwarm(.9)],\n",
    "                   marker='_', lw=6)\n",
    "    ax.set(ylim=[10,-1], title='TimeSeriesSplit behavior', xlabel='data index', \n",
    "           ylabel='CV iteration')\n",
    "    ax.legend([l1,l2], ['Training', 'Validation'])"
   ]
  },
  {
   "cell_type": "markdown",
   "id": "b4d478d0",
   "metadata": {},
   "source": [
    "# Modeling"
   ]
  },
  {
   "cell_type": "markdown",
   "id": "6d30fdd0",
   "metadata": {},
   "source": [
    "A note about the test data: \n",
    "\n",
    "Initially, we intended to use data after 2017 as the test data. (Recall that the train data stored in the df prices ends in the year 2017.) However, we found that the data for the Frankfurt Stock Exchange after 2017 contained a large swatch of missing values. We could have imputed those missing values, but that didn't seem like a good idea because so many of them were missing. So, we chose to evaluate our model by an in-sample forecast instead of out-of-sample forecast with the test data.\n"
   ]
  },
  {
   "cell_type": "markdown",
   "id": "a706694b",
   "metadata": {},
   "source": [
    "## ARIMA model"
   ]
  },
  {
   "cell_type": "markdown",
   "id": "a776f8ad",
   "metadata": {},
   "source": [
    "First, we do a hyperparameter search over the ARIMA parameters (p,d=1,q) with 5-fold cross-validation. We start by writing a function which computes the mean cross-validation MAPE score for a given choice of p and q.\n",
    "\n",
    "Note that we set d=1 because we have seen from the Data Wrangling notebook that the stock prices are not a stationary time series, but the first difference (i.e. the returns) is stationary."
   ]
  },
  {
   "cell_type": "code",
   "execution_count": 6,
   "id": "4fffd415",
   "metadata": {},
   "outputs": [],
   "source": [
    "def cv_score(p,q):\n",
    "\n",
    "    scores_list = []\n",
    "\n",
    "    for ii, (train_index, test_index) in enumerate(tscv.split(prices)):\n",
    "        train, test = list(tscv.split(prices))[ii][0], list(tscv.split(prices))[ii][1]\n",
    "        model = ARIMA(prices_series[train], order=(p,1,q))\n",
    "        results = model.fit()\n",
    "        prediction = results.predict(test[0],test[-1])\n",
    "        score = MAPE(prices_series[test], prediction)\n",
    "        scores_list.append(score)\n",
    "    \n",
    "    return sum(scores_list)/len(scores_list)"
   ]
  },
  {
   "cell_type": "markdown",
   "id": "b6277ed6",
   "metadata": {},
   "source": [
    "Then, we scan over a range of values of p and q and print out the mean MAPE score for each of them."
   ]
  },
  {
   "cell_type": "code",
   "execution_count": 7,
   "id": "0cbe6e91",
   "metadata": {},
   "outputs": [
    {
     "name": "stderr",
     "output_type": "stream",
     "text": [
      "/Users/phucnguyen/opt/anaconda3/lib/python3.9/site-packages/statsmodels/base/model.py:604: ConvergenceWarning: Maximum Likelihood optimization failed to converge. Check mle_retvals\n",
      "  warnings.warn(\"Maximum Likelihood optimization failed to \"\n",
      "/Users/phucnguyen/opt/anaconda3/lib/python3.9/site-packages/statsmodels/base/model.py:604: ConvergenceWarning: Maximum Likelihood optimization failed to converge. Check mle_retvals\n",
      "  warnings.warn(\"Maximum Likelihood optimization failed to \"\n"
     ]
    },
    {
     "name": "stdout",
     "output_type": "stream",
     "text": [
      "p =  0 , q =  0 , mean MAPE score:  0.15526851359151878\n",
      "p =  0 , q =  1 , mean MAPE score:  0.15521659637740076\n",
      "p =  0 , q =  2 , mean MAPE score:  0.15529932401295218\n",
      "p =  1 , q =  0 , mean MAPE score:  0.15520364558445693\n"
     ]
    },
    {
     "name": "stderr",
     "output_type": "stream",
     "text": [
      "/Users/phucnguyen/opt/anaconda3/lib/python3.9/site-packages/statsmodels/tsa/statespace/sarimax.py:966: UserWarning: Non-stationary starting autoregressive parameters found. Using zeros as starting parameters.\n",
      "  warn('Non-stationary starting autoregressive parameters'\n",
      "/Users/phucnguyen/opt/anaconda3/lib/python3.9/site-packages/statsmodels/tsa/statespace/sarimax.py:978: UserWarning: Non-invertible starting MA parameters found. Using zeros as starting parameters.\n",
      "  warn('Non-invertible starting MA parameters found.'\n",
      "/Users/phucnguyen/opt/anaconda3/lib/python3.9/site-packages/statsmodels/tsa/statespace/sarimax.py:966: UserWarning: Non-stationary starting autoregressive parameters found. Using zeros as starting parameters.\n",
      "  warn('Non-stationary starting autoregressive parameters'\n",
      "/Users/phucnguyen/opt/anaconda3/lib/python3.9/site-packages/statsmodels/tsa/statespace/sarimax.py:978: UserWarning: Non-invertible starting MA parameters found. Using zeros as starting parameters.\n",
      "  warn('Non-invertible starting MA parameters found.'\n",
      "/Users/phucnguyen/opt/anaconda3/lib/python3.9/site-packages/statsmodels/tsa/statespace/sarimax.py:966: UserWarning: Non-stationary starting autoregressive parameters found. Using zeros as starting parameters.\n",
      "  warn('Non-stationary starting autoregressive parameters'\n",
      "/Users/phucnguyen/opt/anaconda3/lib/python3.9/site-packages/statsmodels/tsa/statespace/sarimax.py:978: UserWarning: Non-invertible starting MA parameters found. Using zeros as starting parameters.\n",
      "  warn('Non-invertible starting MA parameters found.'\n",
      "/Users/phucnguyen/opt/anaconda3/lib/python3.9/site-packages/statsmodels/tsa/statespace/sarimax.py:966: UserWarning: Non-stationary starting autoregressive parameters found. Using zeros as starting parameters.\n",
      "  warn('Non-stationary starting autoregressive parameters'\n",
      "/Users/phucnguyen/opt/anaconda3/lib/python3.9/site-packages/statsmodels/tsa/statespace/sarimax.py:978: UserWarning: Non-invertible starting MA parameters found. Using zeros as starting parameters.\n",
      "  warn('Non-invertible starting MA parameters found.'\n"
     ]
    },
    {
     "name": "stdout",
     "output_type": "stream",
     "text": [
      "p =  1 , q =  1 , mean MAPE score:  0.15516422452477444\n",
      "p =  1 , q =  2 , mean MAPE score:  0.15535232892792078\n",
      "p =  2 , q =  0 , mean MAPE score:  0.1552569669563942\n"
     ]
    },
    {
     "name": "stderr",
     "output_type": "stream",
     "text": [
      "/Users/phucnguyen/opt/anaconda3/lib/python3.9/site-packages/statsmodels/tsa/statespace/sarimax.py:966: UserWarning: Non-stationary starting autoregressive parameters found. Using zeros as starting parameters.\n",
      "  warn('Non-stationary starting autoregressive parameters'\n",
      "/Users/phucnguyen/opt/anaconda3/lib/python3.9/site-packages/statsmodels/tsa/statespace/sarimax.py:978: UserWarning: Non-invertible starting MA parameters found. Using zeros as starting parameters.\n",
      "  warn('Non-invertible starting MA parameters found.'\n",
      "/Users/phucnguyen/opt/anaconda3/lib/python3.9/site-packages/statsmodels/tsa/statespace/sarimax.py:966: UserWarning: Non-stationary starting autoregressive parameters found. Using zeros as starting parameters.\n",
      "  warn('Non-stationary starting autoregressive parameters'\n",
      "/Users/phucnguyen/opt/anaconda3/lib/python3.9/site-packages/statsmodels/tsa/statespace/sarimax.py:978: UserWarning: Non-invertible starting MA parameters found. Using zeros as starting parameters.\n",
      "  warn('Non-invertible starting MA parameters found.'\n",
      "/Users/phucnguyen/opt/anaconda3/lib/python3.9/site-packages/statsmodels/tsa/statespace/sarimax.py:966: UserWarning: Non-stationary starting autoregressive parameters found. Using zeros as starting parameters.\n",
      "  warn('Non-stationary starting autoregressive parameters'\n",
      "/Users/phucnguyen/opt/anaconda3/lib/python3.9/site-packages/statsmodels/tsa/statespace/sarimax.py:978: UserWarning: Non-invertible starting MA parameters found. Using zeros as starting parameters.\n",
      "  warn('Non-invertible starting MA parameters found.'\n",
      "/Users/phucnguyen/opt/anaconda3/lib/python3.9/site-packages/statsmodels/tsa/statespace/sarimax.py:966: UserWarning: Non-stationary starting autoregressive parameters found. Using zeros as starting parameters.\n",
      "  warn('Non-stationary starting autoregressive parameters'\n",
      "/Users/phucnguyen/opt/anaconda3/lib/python3.9/site-packages/statsmodels/tsa/statespace/sarimax.py:978: UserWarning: Non-invertible starting MA parameters found. Using zeros as starting parameters.\n",
      "  warn('Non-invertible starting MA parameters found.'\n",
      "/Users/phucnguyen/opt/anaconda3/lib/python3.9/site-packages/statsmodels/tsa/statespace/sarimax.py:966: UserWarning: Non-stationary starting autoregressive parameters found. Using zeros as starting parameters.\n",
      "  warn('Non-stationary starting autoregressive parameters'\n",
      "/Users/phucnguyen/opt/anaconda3/lib/python3.9/site-packages/statsmodels/tsa/statespace/sarimax.py:978: UserWarning: Non-invertible starting MA parameters found. Using zeros as starting parameters.\n",
      "  warn('Non-invertible starting MA parameters found.'\n",
      "/Users/phucnguyen/opt/anaconda3/lib/python3.9/site-packages/statsmodels/tsa/statespace/sarimax.py:966: UserWarning: Non-stationary starting autoregressive parameters found. Using zeros as starting parameters.\n",
      "  warn('Non-stationary starting autoregressive parameters'\n",
      "/Users/phucnguyen/opt/anaconda3/lib/python3.9/site-packages/statsmodels/tsa/statespace/sarimax.py:978: UserWarning: Non-invertible starting MA parameters found. Using zeros as starting parameters.\n",
      "  warn('Non-invertible starting MA parameters found.'\n",
      "/Users/phucnguyen/opt/anaconda3/lib/python3.9/site-packages/statsmodels/tsa/statespace/sarimax.py:966: UserWarning: Non-stationary starting autoregressive parameters found. Using zeros as starting parameters.\n",
      "  warn('Non-stationary starting autoregressive parameters'\n",
      "/Users/phucnguyen/opt/anaconda3/lib/python3.9/site-packages/statsmodels/tsa/statespace/sarimax.py:978: UserWarning: Non-invertible starting MA parameters found. Using zeros as starting parameters.\n",
      "  warn('Non-invertible starting MA parameters found.'\n",
      "/Users/phucnguyen/opt/anaconda3/lib/python3.9/site-packages/statsmodels/tsa/statespace/sarimax.py:966: UserWarning: Non-stationary starting autoregressive parameters found. Using zeros as starting parameters.\n",
      "  warn('Non-stationary starting autoregressive parameters'\n",
      "/Users/phucnguyen/opt/anaconda3/lib/python3.9/site-packages/statsmodels/tsa/statespace/sarimax.py:978: UserWarning: Non-invertible starting MA parameters found. Using zeros as starting parameters.\n",
      "  warn('Non-invertible starting MA parameters found.'\n"
     ]
    },
    {
     "name": "stdout",
     "output_type": "stream",
     "text": [
      "p =  2 , q =  1 , mean MAPE score:  0.15526398061921118\n"
     ]
    },
    {
     "name": "stderr",
     "output_type": "stream",
     "text": [
      "/Users/phucnguyen/opt/anaconda3/lib/python3.9/site-packages/statsmodels/base/model.py:604: ConvergenceWarning: Maximum Likelihood optimization failed to converge. Check mle_retvals\n",
      "  warnings.warn(\"Maximum Likelihood optimization failed to \"\n",
      "/Users/phucnguyen/opt/anaconda3/lib/python3.9/site-packages/statsmodels/tsa/statespace/sarimax.py:966: UserWarning: Non-stationary starting autoregressive parameters found. Using zeros as starting parameters.\n",
      "  warn('Non-stationary starting autoregressive parameters'\n",
      "/Users/phucnguyen/opt/anaconda3/lib/python3.9/site-packages/statsmodels/tsa/statespace/sarimax.py:978: UserWarning: Non-invertible starting MA parameters found. Using zeros as starting parameters.\n",
      "  warn('Non-invertible starting MA parameters found.'\n",
      "/Users/phucnguyen/opt/anaconda3/lib/python3.9/site-packages/statsmodels/base/model.py:604: ConvergenceWarning: Maximum Likelihood optimization failed to converge. Check mle_retvals\n",
      "  warnings.warn(\"Maximum Likelihood optimization failed to \"\n",
      "/Users/phucnguyen/opt/anaconda3/lib/python3.9/site-packages/statsmodels/tsa/statespace/sarimax.py:966: UserWarning: Non-stationary starting autoregressive parameters found. Using zeros as starting parameters.\n",
      "  warn('Non-stationary starting autoregressive parameters'\n",
      "/Users/phucnguyen/opt/anaconda3/lib/python3.9/site-packages/statsmodels/tsa/statespace/sarimax.py:978: UserWarning: Non-invertible starting MA parameters found. Using zeros as starting parameters.\n",
      "  warn('Non-invertible starting MA parameters found.'\n"
     ]
    },
    {
     "name": "stdout",
     "output_type": "stream",
     "text": [
      "p =  2 , q =  2 , mean MAPE score:  0.15173029227914586\n"
     ]
    }
   ],
   "source": [
    "MAPE_score_dict = {}\n",
    "\n",
    "for p in range(3):\n",
    "    for q in range(3):\n",
    "        MAPE_score_dict[cv_score(p,q)] = (p,q)\n",
    "        print(\"p = \", p, \", q = \", q, \", mean MAPE score: \", cv_score(p,q))"
   ]
  },
  {
   "cell_type": "markdown",
   "id": "472a7bcc",
   "metadata": {},
   "source": [
    "We get warnings about failure of Maximum Likelihood Optimization to converge, and also of non-stationary values of the parameters of ARIMA models found. This means that ARIMA models are not very good at fitting the data, but we can still proceed."
   ]
  },
  {
   "cell_type": "code",
   "execution_count": 8,
   "id": "59682160",
   "metadata": {},
   "outputs": [],
   "source": [
    "#Print the list of MAPE scores, sorted from smallest to largest\n",
    "sorted_MAPE_scores = sorted(list(MAPE_score_dict.keys()))"
   ]
  },
  {
   "cell_type": "code",
   "execution_count": 9,
   "id": "49f46980",
   "metadata": {},
   "outputs": [
    {
     "name": "stdout",
     "output_type": "stream",
     "text": [
      "0.15173029227914586\n"
     ]
    }
   ],
   "source": [
    "#Print out the mallest mean MAPE score:\n",
    "print(sorted_MAPE_scores[0])"
   ]
  },
  {
   "cell_type": "code",
   "execution_count": 10,
   "id": "2d25c81b",
   "metadata": {},
   "outputs": [
    {
     "name": "stdout",
     "output_type": "stream",
     "text": [
      "(2, 2)\n"
     ]
    }
   ],
   "source": [
    "#The value of p and q corresponding to the smallest MAPE score:\n",
    "print(MAPE_score_dict[sorted_MAPE_scores[0]])"
   ]
  },
  {
   "cell_type": "code",
   "execution_count": 11,
   "id": "c9940172",
   "metadata": {},
   "outputs": [
    {
     "data": {
      "image/png": "[encoded data removed]",
      "text/plain": [
       "<Figure size 640x480 with 1 Axes>"
      ]
     },
     "metadata": {},
     "output_type": "display_data"
    }
   ],
   "source": [
    "#Choosing p and q to be the best values, and making a plot of the forecast.\n",
    "fig, ax = plt.subplots()\n",
    "res = ARIMA(prices_series[:1705], order=(2,0,2)).fit()\n",
    "plot_predict(res, start=1705, end=2044, ax=ax)\n",
    "prices.plot(ax=ax)\n",
    "plt.show()"
   ]
  },
  {
   "cell_type": "code",
   "execution_count": 12,
   "id": "5e8a74c4",
   "metadata": {},
   "outputs": [
    {
     "data": {
      "text/html": [
       "<table class=\"simpletable\">\n",
       "<caption>SARIMAX Results</caption>\n",
       "<tr>\n",
       "  <th>Dep. Variable:</th>         <td>open</td>       <th>  No. Observations:  </th>   <td>1705</td>  \n",
       "</tr>\n",
       "<tr>\n",
       "  <th>Model:</th>            <td>ARIMA(2, 0, 2)</td>  <th>  Log Likelihood     </th> <td>-787.394</td>\n",
       "</tr>\n",
       "<tr>\n",
       "  <th>Date:</th>            <td>Sun, 04 Jun 2023</td> <th>  AIC                </th> <td>1586.788</td>\n",
       "</tr>\n",
       "<tr>\n",
       "  <th>Time:</th>                <td>20:30:43</td>     <th>  BIC                </th> <td>1619.436</td>\n",
       "</tr>\n",
       "<tr>\n",
       "  <th>Sample:</th>             <td>01-01-2010</td>    <th>  HQIC               </th> <td>1598.872</td>\n",
       "</tr>\n",
       "<tr>\n",
       "  <th></th>                   <td>- 09-05-2016</td>   <th>                     </th>     <td> </td>   \n",
       "</tr>\n",
       "<tr>\n",
       "  <th>Covariance Type:</th>        <td>opg</td>       <th>                     </th>     <td> </td>   \n",
       "</tr>\n",
       "</table>\n",
       "<table class=\"simpletable\">\n",
       "<tr>\n",
       "     <td></td>       <th>coef</th>     <th>std err</th>      <th>z</th>      <th>P>|z|</th>  <th>[0.025</th>    <th>0.975]</th>  \n",
       "</tr>\n",
       "<tr>\n",
       "  <th>const</th>  <td>   20.5334</td> <td>    6.506</td> <td>    3.156</td> <td> 0.002</td> <td>    7.781</td> <td>   33.285</td>\n",
       "</tr>\n",
       "<tr>\n",
       "  <th>ar.L1</th>  <td>    0.6037</td> <td>    0.219</td> <td>    2.761</td> <td> 0.006</td> <td>    0.175</td> <td>    1.032</td>\n",
       "</tr>\n",
       "<tr>\n",
       "  <th>ar.L2</th>  <td>    0.3950</td> <td>    0.218</td> <td>    1.810</td> <td> 0.070</td> <td>   -0.033</td> <td>    0.823</td>\n",
       "</tr>\n",
       "<tr>\n",
       "  <th>ma.L1</th>  <td>    0.2598</td> <td>    0.217</td> <td>    1.196</td> <td> 0.232</td> <td>   -0.166</td> <td>    0.686</td>\n",
       "</tr>\n",
       "<tr>\n",
       "  <th>ma.L2</th>  <td>    0.0031</td> <td>    0.037</td> <td>    0.084</td> <td> 0.933</td> <td>   -0.070</td> <td>    0.076</td>\n",
       "</tr>\n",
       "<tr>\n",
       "  <th>sigma2</th> <td>    0.1469</td> <td>    0.002</td> <td>   68.826</td> <td> 0.000</td> <td>    0.143</td> <td>    0.151</td>\n",
       "</tr>\n",
       "</table>\n",
       "<table class=\"simpletable\">\n",
       "<tr>\n",
       "  <th>Ljung-Box (L1) (Q):</th>     <td>0.00</td> <th>  Jarque-Bera (JB):  </th> <td>8283.00</td>\n",
       "</tr>\n",
       "<tr>\n",
       "  <th>Prob(Q):</th>                <td>0.96</td> <th>  Prob(JB):          </th>  <td>0.00</td>  \n",
       "</tr>\n",
       "<tr>\n",
       "  <th>Heteroskedasticity (H):</th> <td>4.39</td> <th>  Skew:              </th>  <td>-0.07</td> \n",
       "</tr>\n",
       "<tr>\n",
       "  <th>Prob(H) (two-sided):</th>    <td>0.00</td> <th>  Kurtosis:          </th>  <td>13.80</td> \n",
       "</tr>\n",
       "</table><br/><br/>Warnings:<br/>[1] Covariance matrix calculated using the outer product of gradients (complex-step)."
      ],
      "text/plain": [
       "<class 'statsmodels.iolib.summary.Summary'>\n",
       "\"\"\"\n",
       "                               SARIMAX Results                                \n",
       "==============================================================================\n",
       "Dep. Variable:                   open   No. Observations:                 1705\n",
       "Model:                 ARIMA(2, 0, 2)   Log Likelihood                -787.394\n",
       "Date:                Sun, 04 Jun 2023   AIC                           1586.788\n",
       "Time:                        20:30:43   BIC                           1619.436\n",
       "Sample:                    01-01-2010   HQIC                          1598.872\n",
       "                         - 09-05-2016                                         \n",
       "Covariance Type:                  opg                                         \n",
       "==============================================================================\n",
       "                 coef    std err          z      P>|z|      [0.025      0.975]\n",
       "------------------------------------------------------------------------------\n",
       "const         20.5334      6.506      3.156      0.002       7.781      33.285\n",
       "ar.L1          0.6037      0.219      2.761      0.006       0.175       1.032\n",
       "ar.L2          0.3950      0.218      1.810      0.070      -0.033       0.823\n",
       "ma.L1          0.2598      0.217      1.196      0.232      -0.166       0.686\n",
       "ma.L2          0.0031      0.037      0.084      0.933      -0.070       0.076\n",
       "sigma2         0.1469      0.002     68.826      0.000       0.143       0.151\n",
       "===================================================================================\n",
       "Ljung-Box (L1) (Q):                   0.00   Jarque-Bera (JB):              8283.00\n",
       "Prob(Q):                              0.96   Prob(JB):                         0.00\n",
       "Heteroskedasticity (H):               4.39   Skew:                            -0.07\n",
       "Prob(H) (two-sided):                  0.00   Kurtosis:                        13.80\n",
       "===================================================================================\n",
       "\n",
       "Warnings:\n",
       "[1] Covariance matrix calculated using the outer product of gradients (complex-step).\n",
       "\"\"\""
      ]
     },
     "execution_count": 12,
     "metadata": {},
     "output_type": "execute_result"
    }
   ],
   "source": [
    "#Print out a summary of the model\n",
    "res.summary()"
   ]
  },
  {
   "cell_type": "markdown",
   "id": "925fe95d",
   "metadata": {},
   "source": [
    "## Exponential smoothing "
   ]
  },
  {
   "cell_type": "markdown",
   "id": "dc2e1c92",
   "metadata": {},
   "source": [
    "Next, we use Simple Exponential Smoothing. We apply cross-validation in the same way as we did for the ARIMA model:"
   ]
  },
  {
   "cell_type": "code",
   "execution_count": 13,
   "id": "bac075ab",
   "metadata": {},
   "outputs": [],
   "source": [
    "scores_list = []\n",
    "\n",
    "for ii, (train_index, test_index) in enumerate(tscv.split(prices)):\n",
    "        train, test = list(tscv.split(prices))[ii][0], list(tscv.split(prices))[ii][1]\n",
    "        model = ExponentialSmoothing(prices_series[train], trend=\"multiplicative\")\n",
    "        results = model.fit()\n",
    "        prediction = results.predict(test[0],test[-1])\n",
    "        score = MAPE(prices_series[test], prediction)\n",
    "        scores_list.append(score)"
   ]
  },
  {
   "cell_type": "markdown",
   "id": "e670005d",
   "metadata": {},
   "source": [
    "The mean cross-validation score is:"
   ]
  },
  {
   "cell_type": "code",
   "execution_count": 14,
   "id": "f4845d80",
   "metadata": {},
   "outputs": [
    {
     "name": "stdout",
     "output_type": "stream",
     "text": [
      "0.13499124118673594\n"
     ]
    }
   ],
   "source": [
    "print(sum(scores_list)/len(scores_list))"
   ]
  },
  {
   "cell_type": "code",
   "execution_count": 15,
   "id": "6447c217",
   "metadata": {},
   "outputs": [
    {
     "data": {
      "text/html": [
       "<table class=\"simpletable\">\n",
       "<caption>ExponentialSmoothing Model Results</caption>\n",
       "<tr>\n",
       "  <th>Dep. Variable:</th>            <td>open</td>         <th>  No. Observations:  </th>       <td>1704</td>      \n",
       "</tr>\n",
       "<tr>\n",
       "  <th>Model:</th>            <td>ExponentialSmoothing</td> <th>  SSE                </th>      <td>250.877</td>    \n",
       "</tr>\n",
       "<tr>\n",
       "  <th>Optimized:</th>                <td>True</td>         <th>  AIC                </th>     <td>-3256.476</td>   \n",
       "</tr>\n",
       "<tr>\n",
       "  <th>Trend:</th>               <td>Multiplicative</td>    <th>  BIC                </th>     <td>-3234.713</td>   \n",
       "</tr>\n",
       "<tr>\n",
       "  <th>Seasonal:</th>                 <td>None</td>         <th>  AICC               </th>     <td>-3256.426</td>   \n",
       "</tr>\n",
       "<tr>\n",
       "  <th>Seasonal Periods:</th>         <td>None</td>         <th>  Date:              </th> <td>Sun, 04 Jun 2023</td>\n",
       "</tr>\n",
       "<tr>\n",
       "  <th>Box-Cox:</th>                  <td>False</td>        <th>  Time:              </th>     <td>20:30:44</td>    \n",
       "</tr>\n",
       "<tr>\n",
       "  <th>Box-Cox Coeff.:</th>           <td>None</td>         <th>                     </th>         <td> </td>       \n",
       "</tr>\n",
       "</table>\n",
       "<table class=\"simpletable\">\n",
       "<tr>\n",
       "         <td></td>                 <th>coeff</th>                <th>code</th>               <th>optimized</th>     \n",
       "</tr>\n",
       "<tr>\n",
       "  <th>smoothing_level</th> <td>           0.8671618</td> <td>               alpha</td> <td>                True</td>\n",
       "</tr>\n",
       "<tr>\n",
       "  <th>smoothing_trend</th> <td>          2.6621e-13</td> <td>                beta</td> <td>                True</td>\n",
       "</tr>\n",
       "<tr>\n",
       "  <th>initial_level</th>   <td>           12.355946</td> <td>                 l.0</td> <td>                True</td>\n",
       "</tr>\n",
       "<tr>\n",
       "  <th>initial_trend</th>   <td>           1.0004696</td> <td>                 b.0</td> <td>                True</td>\n",
       "</tr>\n",
       "</table>"
      ],
      "text/plain": [
       "<class 'statsmodels.iolib.summary.Summary'>\n",
       "\"\"\"\n",
       "                       ExponentialSmoothing Model Results                       \n",
       "================================================================================\n",
       "Dep. Variable:                     open   No. Observations:                 1704\n",
       "Model:             ExponentialSmoothing   SSE                            250.877\n",
       "Optimized:                         True   AIC                          -3256.476\n",
       "Trend:                   Multiplicative   BIC                          -3234.713\n",
       "Seasonal:                          None   AICC                         -3256.426\n",
       "Seasonal Periods:                  None   Date:                 Sun, 04 Jun 2023\n",
       "Box-Cox:                          False   Time:                         20:30:44\n",
       "Box-Cox Coeff.:                    None                                         \n",
       "==============================================================================\n",
       "                       coeff                 code              optimized      \n",
       "------------------------------------------------------------------------------\n",
       "smoothing_level            0.8671618                alpha                 True\n",
       "smoothing_trend           2.6621e-13                 beta                 True\n",
       "initial_level              12.355946                  l.0                 True\n",
       "initial_trend              1.0004696                  b.0                 True\n",
       "------------------------------------------------------------------------------\n",
       "\"\"\""
      ]
     },
     "execution_count": 15,
     "metadata": {},
     "output_type": "execute_result"
    }
   ],
   "source": [
    "#Print a summary of the model\n",
    "model = ExponentialSmoothing(prices_series[train], trend=\"multiplicative\")\n",
    "model.fit().summary()"
   ]
  },
  {
   "cell_type": "markdown",
   "id": "2dc62566",
   "metadata": {},
   "source": [
    "We see that the exponential smoothing model has much lower AIC and BIC compared to the ARIMA model, so the exponential smoothing is better than ARIMA."
   ]
  },
  {
   "cell_type": "code",
   "execution_count": 16,
   "id": "379e93f6",
   "metadata": {},
   "outputs": [
    {
     "data": {
      "image/png": "[encoded data removed]",
      "text/plain": [
       "<Figure size 640x480 with 1 Axes>"
      ]
     },
     "metadata": {},
     "output_type": "display_data"
    }
   ],
   "source": [
    "#Choosing p and q to be the best values, and making a plot of the forecast.\n",
    "fig, ax = plt.subplots()\n",
    "res = ExponentialSmoothing(prices_series[:1705], trend=\"multiplicative\").fit()\n",
    "predictions = res.predict(start=1705, end=2044)\n",
    "prices.plot(ax=ax,label='Actual opening prices')\n",
    "predictions.plot(ax=ax, label='Forecast')\n",
    "ax.legend()\n",
    "plt.show()"
   ]
  },
  {
   "cell_type": "markdown",
   "id": "4f4ba51e",
   "metadata": {},
   "source": [
    "## Facebook prophet"
   ]
  },
  {
   "cell_type": "code",
   "execution_count": 17,
   "id": "39e8c963",
   "metadata": {},
   "outputs": [
    {
     "name": "stderr",
     "output_type": "stream",
     "text": [
      "20:30:46 - cmdstanpy - INFO - Chain [1] start processing\n",
      "20:30:46 - cmdstanpy - INFO - Chain [1] done processing\n",
      "20:30:47 - cmdstanpy - INFO - Chain [1] start processing\n",
      "20:30:47 - cmdstanpy - INFO - Chain [1] done processing\n",
      "20:30:47 - cmdstanpy - INFO - Chain [1] start processing\n",
      "20:30:48 - cmdstanpy - INFO - Chain [1] done processing\n",
      "20:30:48 - cmdstanpy - INFO - Chain [1] start processing\n",
      "20:30:49 - cmdstanpy - INFO - Chain [1] done processing\n",
      "20:30:50 - cmdstanpy - INFO - Chain [1] start processing\n",
      "20:30:50 - cmdstanpy - INFO - Chain [1] done processing\n"
     ]
    }
   ],
   "source": [
    "scores_list = []\n",
    "\n",
    "for ii, (train_index, test_index) in enumerate(tscv.split(prices)):\n",
    "        train, test = list(tscv.split(prices))[ii][0], list(tscv.split(prices))[ii][1]\n",
    "        model = Prophet()\n",
    "        \n",
    "        #We have to put the data in the right format to use Prophet: the 'date' column has to be renamed 'ds',\n",
    "        #and the column containing the time series itself has to be named 'y'\n",
    "        df = prices_series[train].to_frame().reset_index().rename(columns={\"date\":\"ds\",\"open\":\"y\"})\n",
    "        df['ds'] = df['ds'].dt.to_timestamp()\n",
    "        results = model.fit(df)\n",
    "        future = model.make_future_dataframe(periods=len(test), freq='D')\n",
    "        prediction = results.predict(future)\n",
    "        score = MAPE(prices_series[test], prediction[len(train):]['yhat'])\n",
    "        scores_list.append(score)"
   ]
  },
  {
   "cell_type": "code",
   "execution_count": 18,
   "id": "28eeaa0f",
   "metadata": {
    "scrolled": true
   },
   "outputs": [
    {
     "name": "stdout",
     "output_type": "stream",
     "text": [
      "0.10459194155739997\n"
     ]
    }
   ],
   "source": [
    "#Print out the mean MAPE score\n",
    "\n",
    "print(sum(scores_list)/len(scores_list))"
   ]
  },
  {
   "cell_type": "code",
   "execution_count": 19,
   "id": "48b92bd6",
   "metadata": {},
   "outputs": [
    {
     "name": "stderr",
     "output_type": "stream",
     "text": [
      "20:30:51 - cmdstanpy - INFO - Chain [1] start processing\n",
      "20:30:52 - cmdstanpy - INFO - Chain [1] done processing\n"
     ]
    },
    {
     "data": {
      "image/png": "[encoded data removed]",
      "text/plain": [
       "<Figure size 640x480 with 1 Axes>"
      ]
     },
     "metadata": {},
     "output_type": "display_data"
    }
   ],
   "source": [
    "#Choosing p and q to be the best values, and making a plot of the forecast.\n",
    "fig, ax = plt.subplots()\n",
    "prophet_model = Prophet()\n",
    "df = prices_series[train].to_frame().reset_index().rename(columns={\"date\":\"ds\",\"open\":\"y\"})\n",
    "df['ds'] = df['ds'].dt.to_timestamp()\n",
    "results = prophet_model.fit(df)\n",
    "future = prophet_model.make_future_dataframe(periods=len(test), freq='D')\n",
    "prediction = results.predict(future)\n",
    "\n",
    "\n",
    "prices_series.to_frame().reset_index().plot(ax=ax,label='Actual opening prices')\n",
    "prediction[len(train):]['yhat'].plot(ax=ax, label='Forecast')\n",
    "prediction[len(train):]['yhat_lower'].plot(ax=ax, label ='Confidence interval lower limit')\n",
    "prediction[len(train):]['yhat_upper'].plot(ax=ax, label = 'Confidence interval upper limit')\n",
    "\n",
    "ax.legend()\n",
    "plt.show()"
   ]
  },
  {
   "cell_type": "markdown",
   "id": "14143dae",
   "metadata": {},
   "source": [
    "The Facebook prophet model is the best model."
   ]
  },
  {
   "cell_type": "code",
   "execution_count": null,
   "id": "9816cbba",
   "metadata": {},
   "outputs": [],
   "source": []
  },
  {
   "cell_type": "code",
   "execution_count": null,
   "id": "b4a64095",
   "metadata": {},
   "outputs": [],
   "source": []
  },
  {
   "cell_type": "code",
   "execution_count": null,
   "id": "44d702d9",
   "metadata": {},
   "outputs": [],
   "source": []
  },
  {
   "cell_type": "code",
   "execution_count": null,
   "id": "fe756281",
   "metadata": {},
   "outputs": [],
   "source": []
  }
 ],
 "metadata": {
  "kernelspec": {
   "display_name": "Python 3 (ipykernel)",
   "language": "python",
   "name": "python3"
  },
  "language_info": {
   "codemirror_mode": {
    "name": "ipython",
    "version": 3
   },
   "file_extension": ".py",
   "mimetype": "text/x-python",
   "name": "python",
   "nbconvert_exporter": "python",
   "pygments_lexer": "ipython3",
   "version": "3.9.13"
  }
 },
 "nbformat": 4,
 "nbformat_minor": 5
}
